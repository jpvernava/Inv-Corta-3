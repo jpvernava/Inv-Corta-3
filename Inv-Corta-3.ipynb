{
 "cells": [
  {
   "cell_type": "markdown",
   "metadata": {},
   "source": [
    "Instituto Tecnológico de Costa Rica<br>\n",
    "Escuela de Ingeniería en Electrónica<br>\n",
    "Maestría en Electrónica con énfasis en Sistemas Embebidos<br>\n",
    "Curso: Reconocimiento de Patrones - II Cuatrimestre 2019<br>\n",
    "Profesor: MSc.Felipe Meza<br>\n",
    "Estudiantes:<br>\n",
    "José Pablo Vernavá Amador (Carnet 200307876)<br>\n",
    "Albert Hernández Chavarría (Carnet 200336626)<br>"
   ]
  },
  {
   "cell_type": "markdown",
   "metadata": {},
   "source": [
    "# Investigación Corta # 3: "
   ]
  },
  {
   "cell_type": "markdown",
   "metadata": {},
   "source": [
    "## <font color=blue>1. TensorFlow</font>"
   ]
  },
  {
   "cell_type": "markdown",
   "metadata": {},
   "source": [
    "<div style=\"text-align: justify\">TensorFlow es una plataforma de código abierto para cálculos numéricos y aprendizaje automático.  Fue desarrollada por el [Google Brain Team](https://ai.google/research/teams/brain/) para uso interno, sin embargo, fue liberada posteriormente bajo la licencia Apache 2.0.  TensorFlow está programado en C++ y Python. </div> "
   ]
  },
  {
   "cell_type": "markdown",
   "metadata": {},
   "source": [
    "<div style=\"text-align: justify\">Con TensorFlow es posible extender el uso de aprendizaje profundo (Deep Learning) a un rango amplio de aplicaciones.</div> "
   ]
  },
  {
   "cell_type": "markdown",
   "metadata": {},
   "source": [
    "<div style=\"text-align: justify\">Los cálculos numéricos con TensorFlow se hacen por medio de gráficos de flujo de datos. En estos gráficos, los nodos representan operaciones matemáticas, mientras que las orillas representan los datos, que usualmente son arreglos multidimensionales, o tensores.</div>"
   ]
  },
  {
   "cell_type": "markdown",
   "metadata": {},
   "source": [
    "<div style=\"text-align: justify\">El nombre \"TensorFlow\" se deriva de las operaciones que las redes neuronales realizan en los tensores. Literalmente es un flujo de tensores. </div>"
   ]
  },
  {
   "cell_type": "markdown",
   "metadata": {},
   "source": [
    "<font color=red>Falta mas teoria de TensorFlow.<br>Falta corregir ortografia</font>"
   ]
  },
  {
   "cell_type": "markdown",
   "metadata": {},
   "source": [
    "## <font color=blue>1.1. Casos de uso de TensorFlow</font>"
   ]
  },
  {
   "cell_type": "markdown",
   "metadata": {},
   "source": [
    "<div style=\"text-align: justify\">\n",
    "    Google utiliza TensorFlow en varios de sus productos y servicios actuales, por ejemplo, Gmail, donde por medio del componente \"Smart Reply\", se sugieren hasta 3 respuestas automáticamente basadas en el correo electrónico recibido.</div>"
   ]
  },
  {
   "cell_type": "markdown",
   "metadata": {},
   "source": [
    "![title](SmartReply.png)"
   ]
  },
  {
   "cell_type": "markdown",
   "metadata": {},
   "source": [
    "<div style=\"text-align: justify\">\n",
    "    Google también utiliza TensorFlow en la aplicación Google Translate para realizar traducciones, clasificación de texto, reconocimiento de lenguaje, imágenes y escritura, entre una variedad de idiomas. Detrás de Google Translate hay una red neuronal, específicamente un modelo secuencia-a-secuencia, que básicamente son dos redes neuronales recurrentes: un codificador y un decodificador.  El codificador lee una palabra o parte de una palabra a la vez, creando una representación intermedia. Luego el decodificar recibe una señal de inicio que causa que se decodifique la palabra o la parte de la palabra (uno a la vez de igual forma que en el codificador) al lenguaje deseado. Una vez lista la decodificación, el decodificador alimenta el resultado al paso siguiente, entonces el estado previo y el resultado previo son utilizados para resolver que palabra emitir en el próximo paso. \n",
    "<br>\n",
    "    <br>\n",
    "Ahora incluso Google Translate es capaz de traducir el texto en imágenes vistas por la cámara de los dispositivos móviles y traducirlo al lenguaje deseado.\n",
    "</div>"
   ]
  },
  {
   "cell_type": "markdown",
   "metadata": {},
   "source": [
    "![title](GoogleTranslate.png)"
   ]
  },
  {
   "cell_type": "markdown",
   "metadata": {},
   "source": [
    "<div style=\"text-align: justify\">\n",
    "    Como Google libero TensorFlow, muchas otras empresas también hacen uso de esta plataforma en sus aplicaciones o servicios. Algunos ejemplos son Uber, Airbnb, Twitter, Airbus, IBM. \n",
    "    <br><br>\n",
    "    En el caso de Airbnb, utilizan TensorFlow y otros métodos de aprendizaje automático para la mitigación de riesgos en el uso del servicio. Son capaces de detectar anomalías donde ataques hechos por medio de algún programa provocan incrementos notables en alguna métrica en un periodo corto (por ejemplo, un incremento de 1000% en las reservaciones en una ciudad en particular). También utilizan TensorFlow para sugerir reservas basadas en los gustos de sus clientes y sus reservas anteriores.\n",
    "</div>"
   ]
  },
  {
   "cell_type": "markdown",
   "metadata": {},
   "source": [
    "![title](Airbnb.png)"
   ]
  },
  {
   "cell_type": "markdown",
   "metadata": {},
   "source": [
    "<div style=\"text-align: justify\">\n",
    "    El uso de TensorFlow y aprendizaje profundo también ha incursionado en la medicina. Investigadores de Google, en conjunto con doctores, desarrollaron inteligencia artificial capaz de detectar retinopatía diabética, una condición que causa ceguera entre los adultos. El sistema detecta esta condición al examinar fotos de la retina del ojo del paciente. El diagnostico ha llegado a ser tan efectivo como el de un oftalmólogo experto. Este tipo de ceguera se puede prevenir a menudo si se la retinopatía diabética se detecta temprano, y este el objetivo. Para entrenar la red neuronal, los investigadores de Google alimentaron alrededor de 130 mil imágenes de la retina de los pacientes al sistema.  Las imágenes habían sido examinadas por doctores previamente.</div>"
   ]
  },
  {
   "cell_type": "markdown",
   "metadata": {},
   "source": [
    "![title](BlindnessDiagnosis1.png)"
   ]
  },
  {
   "cell_type": "markdown",
   "metadata": {},
   "source": [
    "## <font color=blue>1.2. Desafios de TensorFlow</font>"
   ]
  },
  {
   "cell_type": "markdown",
   "metadata": {},
   "source": [
    "<div style=\"text-align: justify\">\n",
    "    Como se mencionó anteriormente, TensorFlow trabaja sobre redes neuronales. Una red neuronal típica tiene millones de parámetros, y un set de entrenamiento consiste de varios miles de instancias de datos.  Y estos datos deben estar organizados correctamente.  La recolección y preparación de estos datos requiere invertir tiempo y recursos. Además, si se hace de forma incorrecta, se transforma en un riesgo sustancial para la empresa implementando aprendizaje automático.</div>\n",
    "    <br>\n",
    "    <div style=\"text-align: justify\">\n",
    "Otro contratiempo es que esta cantidad tan grande de datos necesaria para entrenar a los modelos, no siempre es gratis. A veces se necesita comprar los sets de datos listos. </div>\n",
    "<br>\n",
    "    <div style=\"text-align: justify\">\n",
    "Los algoritmos de Deep Learning con TensorFlow construyen una representación jerárquica de datos y capas que les permiten crear su inteligencia artificial o entendimiento de cómo funcionan los datos.  Sin embargo, los ingenieros de ciencia de los datos no saben exactamente cómo es que los algoritmos aprenden.  A esto se le llama el problema de la caja negra. Para los ingenieros es muy difícil comprender como funciona todo el modelo. Y esto conlleva riesgos consigo, por ejemplo, ¿cómo explicar cuando el piloto automático de un vehículo autónomo falle y ocurra un accidente fatal?, ¿que pasaría cuando un algoritmo de IA haga un diagnostico medico erróneo?</div>\n",
    "<br>\n",
    "    <div style=\"text-align: justify\">\n",
    "Aunque cada vez más y más personas se ven atraídas hacia la industria de aprendizaje automático con TensorFlow, aún existen en realidad pocos especialistas que puedan desarrollar esta tecnología. Se estima que hay menos de 10 mil personas a nivel mundial con las habilidades necesarias para realizar investigaciones serias de aprendizaje automático.  Esto causa que los salarios en esta rama se alcen muchísimo, pero no necesariamente esto implica que la calidad de los especialistas sea la óptima. </div>\n",
    "<br>\n",
    "    <div style=\"text-align: justify\">\n",
    "Si los datos que se desean analizar son personales, la gente cada vez está más alerta a la protección de su privacidad, y menos anuentes a compartirlos. Además, existen nuevas regulaciones acerca de la protección de datos personales.\n",
    "<br>\n",
    "    <div style=\"text-align: justify\">\n",
    "Otro punto a tomar en cuenta es que la primera versión de TensorFlow fue liberada por Google en febrero del 2017, es decir, es una tecnología bastante joven y aunque esta en desarrollo, puede que aún no esté al 100% lista para uso masivo.</div>\n",
    "<br>\n",
    "    <div style=\"text-align: justify\">\n",
    "TensorFlow trabaja por capas, los ingenieros escriben un programa que va a su vez generar otro programa que va a aprender por sí mismo a realizar las acciones que fueron programadas inicialmente para cumplir con las metas.  Esto es complicado, y toma tiempo.  Todo el proceso de recolectar y preparar los datos y luego entrenar al algoritmo consume bastante tiempo y hay muchas incertidumbres. Por lo tanto, predecir cuándo va estar listo un sistema de aprendizaje automático es una tarea complicada.</div>"
   ]
  },
  {
   "cell_type": "markdown",
   "metadata": {},
   "source": [
    "## <font color=blue>1.4. Comparación de TensorFlow con otros frameworks</font>"
   ]
  },
  {
   "cell_type": "markdown",
   "metadata": {},
   "source": [
    "![title](DL_Frameworks.png)"
   ]
  },
  {
   "cell_type": "markdown",
   "metadata": {},
   "source": [
    "<div style=\"text-align: justify\">\n",
    "    Actualmente existen varios marcos o frameworks para Deep Learning. TensorFlow es considerado el mejor hasta el momento, y ha sido adoptado por varios gigantes de la tecnología como Airbus, Twitter, IBM, Airbnb.  Esto debido a que TensorFlow tiene una arquitectura sumamente flexible.\n",
    "</div>\n",
    "<br>\n",
    "<div style=\"text-align: justify\">\n",
    "    TensorFlow está disponible tanto en aplicaciones tipo desktop como en aplicaciones móviles, y soporta lenguajes como Python, C++ y R para crear los modelos de Deep Learning utilizando bibliotecas.\n",
    "</div>\n",
    "<br>\n",
    "<div style=\"text-align: justify\">\n",
    "    TensorFlow es normalmente la primera opción para dar los primeros pasos hacia Deep Learning, ya que es basado en Python, es soportado por Google, y tiene muchísima documentación y ejemplos para guiar a las personas.\n",
    "</div>\n",
    "<br>\n",
    "<div style=\"text-align: justify\">\n",
    "    Keras es más un API para Deep Learning que un marco en sí, sin embargo, es bastante popular, e incluso corre encima de TensorFlow.\n",
    "</div>\n",
    "<br>\n",
    "<div style=\"text-align: justify\">\n",
    "    PyTorch es un marco para Deep Learning basado en el lenguaje Python, y es sumamente utilizado por algunos gigantes de la industria como Facebook, y Twitter. PyTorch ha crecido mucho en popularidad recientemente. Permite una personalización que TensorFlow no. \n",
    "</div>\n",
    "<br>\n",
    "<div style=\"text-align: justify\">\n",
    "    Caffe es un marco para Deep Learning con interfaces como C, C++, Python y MATLAB. Es bastante conocido por su velocidad y su aplicabilidad en redes neuronales convolucionales (CNNs). En cuanto a velocidad, este marco es capaz de procesar hasta 60 millones de imágenes diariamente en un único GPU Nvidia K40.  También es bastante popular con redes neuronales para hacer reconocimiento visual. Sin embargo, por su arquitectura, el soporte general para redes recurrentes (como las utilizadas en Google Translate) es pobre y establecer capas más complejas debe hacerse en un lenguaje de bajo nivel.\n",
    "</div>\n",
    "<br>\n",
    "<div style=\"text-align: justify\">\n",
    "    El marco de Deep Learning de Microsoft, Microsoft Cognitive Toolkit o CNTK, es popular por que el entrenamiento de las redes es relativamente sencillo. Este marco realiza redes neuronales convolucionales de forma eficiente y se pueden entrenar para reconocer imágenes, habla y texto. Se dice que este marco provee mejor rendimiento y escalabilidad comparado con otras herramientas como Theano o el mismo TensorFlow cuando opera en múltiples maquinas, ya que hace un uso coherente de los recursos.\n",
    "</div>\n",
    "<br>\n",
    "<div style=\"text-align: justify\">\n",
    "    Acá vemos una gráfica de las estadísticas de los diferentes marcos para Deep Learning en GitHub para el año 2018, para darnos una idea de la popularidad y la utilización de cada uno.\n",
    "    </div>   "
   ]
  },
  {
   "cell_type": "markdown",
   "metadata": {},
   "source": [
    "![title](DL_Comparison.png)"
   ]
  },
  {
   "cell_type": "markdown",
   "metadata": {},
   "source": [
    "## <font color=blue>1.5. Estado del arte de TensorFlow</font>"
   ]
  },
  {
   "cell_type": "markdown",
   "metadata": {},
   "source": [
    "<div style=\"text-align: justify\">\n",
    "    La ultima versión estable de TensorFlow es la 1.14.  Pero TensorFlow 2.0 se encuentra actualmente disponible en una versión Beta que se puede instalar desde la página web de TensorFlow.  La fecha de liberación de esta versión era Q2 2019. Con esta nueva versión, se espera que sea más sencillo aprender y aplicar TensorFlow. Además, Keras se encuentra aún más integrado con el ecosistema de TensorFlow en esta versión. \n",
    "    </div>\n",
    "<br>\n",
    "<div style=\"text-align: justify\">\n",
    "Además, TensorFlow 2.0 incluye TensorFlow Datasets, una colección de sets de datos comúnmente usados preparados para que sean fáciles de usar con TensorFlow.\n",
    "    </div>\n",
    "<br>\n",
    "<div style=\"text-align: justify\">\n",
    "Algunos de los usos más recientes de TensorFlow incluyen una aplicación móvil para detectar cambios en la calidad del aire, médicos están haciendo que las resonancias electromagnéticas sean más reproducibles y exactas, además se estudiaron los efectos de clima extremo en la supercomputadora Summit.\n",
    "    </div>\n",
    "<br>\n",
    "<div style=\"text-align: justify\">\n",
    "Se han anunciado convenios e iniciativas de educación con empresas como Udacity, Coursera and fast.ia para tener colaboración de fuente abierta y lograr entrenar a la nueva generación de usuarios de TensorFlow.\n",
    "    </div>\n",
    "<br>\n",
    "<div style=\"text-align: justify\">\n",
    "TensorFlow Lite es la solución para correr modelos de aprendizaje automático en móviles y sistemas embebidos y su uso se ha expandido globalmente y ahora corre en más de 2 billones de dispositivos móviles.  Grandes compañías como Alibaba lo utilizan para crear una mejor experiencia de usuario en sus aplicaciones. "
   ]
  },
  {
   "cell_type": "markdown",
   "metadata": {},
   "source": [
    "## <font color=blue>1.6. Ejemplo de uso de  TensorFlow</font>"
   ]
  },
  {
   "cell_type": "code",
   "execution_count": 5,
   "metadata": {},
   "outputs": [],
   "source": [
    "# importar tensorflow al ambiente\n",
    "import tensorflow as tf"
   ]
  },
  {
   "cell_type": "code",
   "execution_count": 6,
   "metadata": {},
   "outputs": [
    {
     "ename": "AttributeError",
     "evalue": "module 'tensorflow' has no attribute 'Session'",
     "output_type": "error",
     "traceback": [
      "\u001b[0;31m---------------------------------------------------------------------------\u001b[0m",
      "\u001b[0;31mAttributeError\u001b[0m                            Traceback (most recent call last)",
      "\u001b[0;32m<ipython-input-6-bddb9e3a2d4b>\u001b[0m in \u001b[0;36m<module>\u001b[0;34m\u001b[0m\n\u001b[1;32m      7\u001b[0m \u001b[0;34m\u001b[0m\u001b[0m\n\u001b[1;32m      8\u001b[0m \u001b[0;31m# Intialize the Session\u001b[0m\u001b[0;34m\u001b[0m\u001b[0;34m\u001b[0m\u001b[0;34m\u001b[0m\u001b[0m\n\u001b[0;32m----> 9\u001b[0;31m \u001b[0msess\u001b[0m \u001b[0;34m=\u001b[0m \u001b[0mtf\u001b[0m\u001b[0;34m.\u001b[0m\u001b[0mSession\u001b[0m\u001b[0;34m(\u001b[0m\u001b[0;34m)\u001b[0m\u001b[0;34m\u001b[0m\u001b[0;34m\u001b[0m\u001b[0m\n\u001b[0m\u001b[1;32m     10\u001b[0m \u001b[0;34m\u001b[0m\u001b[0m\n\u001b[1;32m     11\u001b[0m \u001b[0;31m# Print the result\u001b[0m\u001b[0;34m\u001b[0m\u001b[0;34m\u001b[0m\u001b[0;34m\u001b[0m\u001b[0m\n",
      "\u001b[0;31mAttributeError\u001b[0m: module 'tensorflow' has no attribute 'Session'"
     ]
    }
   ],
   "source": [
    "# Initialize two constants\n",
    "x1 = tf.constant([1,2,3,4])\n",
    "x2 = tf.constant([5,6,7,8])\n",
    "\n",
    "# Multiply\n",
    "result = tf.multiply(x1, x2)\n",
    "\n",
    "# Intialize the Session\n",
    "sess = tf.Session()\n",
    "\n",
    "# Print the result\n",
    "print(sess.run(result))\n",
    "\n",
    "# Close the session\n",
    "sess.close()"
   ]
  },
  {
   "cell_type": "markdown",
   "metadata": {},
   "source": [
    "## <font color=blue>2. TensorFlow.Text (seguir esquema para parte de TensorFlow)</font>"
   ]
  },
  {
   "cell_type": "markdown",
   "metadata": {},
   "source": [
    "<font color=red>En el caso de TF.text es un concepto nuevo deben abordarlo de la misma forma que TF (esto es, con las mismas recomendaciones de arriba).</font>"
   ]
  },
  {
   "cell_type": "markdown",
   "metadata": {},
   "source": [
    "## <font color=blue>3. TensorBoard (seguir esquema para parte de TensorFlow)</font>"
   ]
  },
  {
   "cell_type": "markdown",
   "metadata": {},
   "source": [
    "<font color=red>Para que se usa y seria muy bueno si lo pueden incluir como parte de la notebook, hay formas de usarlo por aparte pero recientemente se han creado métodos para incluirlo en la notebook de jupyter, les recomiendo abordar la forma de como se hace y que retos/cuidados puede tener.</font>"
   ]
  },
  {
   "cell_type": "markdown",
   "metadata": {},
   "source": [
    "https://dzone.com/articles/8-best-deep-learning-frameworks\n"
   ]
  },
  {
   "cell_type": "code",
   "execution_count": null,
   "metadata": {},
   "outputs": [],
   "source": [
    "!pip install -q tf-nightly-2.0-preview\n",
    "# Load the TensorBoard notebook extension\n",
    "%load_ext tensorboard"
   ]
  },
  {
   "cell_type": "code",
   "execution_count": null,
   "metadata": {},
   "outputs": [],
   "source": [
    "import tensorflow as tf\n",
    "import datetime, os"
   ]
  },
  {
   "cell_type": "code",
   "execution_count": null,
   "metadata": {},
   "outputs": [],
   "source": [
    "fashion_mnist = tf.keras.datasets.fashion_mnist\n",
    "\n",
    "(x_train, y_train),(x_test, y_test) = fashion_mnist.load_data()\n",
    "x_train, x_test = x_train / 255.0, x_test / 255.0"
   ]
  },
  {
   "cell_type": "code",
   "execution_count": null,
   "metadata": {},
   "outputs": [],
   "source": [
    "logs_base_dir = \"./logs\"\n",
    "os.makedirs(logs_base_dir, exist_ok=True)\n",
    "%tensorboard --logdir {logs_base_dir}"
   ]
  },
  {
   "cell_type": "code",
   "execution_count": null,
   "metadata": {},
   "outputs": [],
   "source": [
    "def create_model():\n",
    "  return tf.keras.models.Sequential([\n",
    "    tf.keras.layers.Flatten(input_shape=(28, 28)),\n",
    "    tf.keras.layers.Dense(512, activation='relu'),\n",
    "    tf.keras.layers.Dropout(0.2),\n",
    "    tf.keras.layers.Dense(10, activation='softmax')\n",
    "  ])"
   ]
  },
  {
   "cell_type": "code",
   "execution_count": null,
   "metadata": {},
   "outputs": [],
   "source": [
    "def train_model():\n",
    "  \n",
    "  model = create_model()\n",
    "  model.compile(optimizer='adam',\n",
    "                loss='sparse_categorical_crossentropy',\n",
    "                metrics=['accuracy'])\n",
    "\n",
    "  logdir = os.path.join(logs_base_dir, datetime.datetime.now().strftime(\"%Y%m%d-%H%M%S\"))\n",
    "  tensorboard_callback = tf.keras.callbacks.TensorBoard(logdir, histogram_freq=1)\n",
    "\n",
    "  model.fit(x=x_train, \n",
    "            y=y_train, \n",
    "            epochs=5, \n",
    "            validation_data=(x_test, y_test), \n",
    "            callbacks=[tensorboard_callback])\n",
    "\n",
    "train_model()"
   ]
  },
  {
   "cell_type": "code",
   "execution_count": null,
   "metadata": {},
   "outputs": [],
   "source": [
    "from tensorboard import notebook\n",
    "notebook.list() # View open TensorBoard instances"
   ]
  },
  {
   "cell_type": "code",
   "execution_count": null,
   "metadata": {},
   "outputs": [],
   "source": [
    "# Control TensorBoard display. If no port is provided, \n",
    "# the most recently launched TensorBoard is used\n",
    "notebook.display(port=6006, height=1000) "
   ]
  },
  {
   "cell_type": "code",
   "execution_count": null,
   "metadata": {},
   "outputs": [],
   "source": []
  }
 ],
 "metadata": {
  "kernelspec": {
   "display_name": "Python 3",
   "language": "python",
   "name": "python3"
  },
  "language_info": {
   "codemirror_mode": {
    "name": "ipython",
    "version": 3
   },
   "file_extension": ".py",
   "mimetype": "text/x-python",
   "name": "python",
   "nbconvert_exporter": "python",
   "pygments_lexer": "ipython3",
   "version": "3.7.3"
  }
 },
 "nbformat": 4,
 "nbformat_minor": 2
}
