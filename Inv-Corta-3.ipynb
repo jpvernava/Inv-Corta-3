{
 "cells": [
  {
   "cell_type": "markdown",
   "metadata": {},
   "source": [
    "Instituto Tecnológico de Costa Rica<br>\n",
    "Escuela de Ingeniería en Electrónica<br>\n",
    "Maestría en Electrónica con énfasis en Sistemas Embebidos<br>\n",
    "Curso: Reconocimiento de Patrones - II Cuatrimestre 2019<br>\n",
    "Profesor: MSc.Felipe Meza<br>\n",
    "Estudiantes:<br>\n",
    "José Pablo Vernavá Amador (Carnet 200307876)<br>\n",
    "Albert Hernández Chavarría (Carnet 200336626)<br>"
   ]
  },
  {
   "cell_type": "markdown",
   "metadata": {},
   "source": [
    "# Investigación Corta # 3: "
   ]
  },
  {
   "cell_type": "markdown",
   "metadata": {},
   "source": [
    "## 1. TensorFlow"
   ]
  },
  {
   "cell_type": "markdown",
   "metadata": {},
   "source": [
    "TensorFlow es una plataforma de código abierto para cálculos numéricos y aprendizaje automático, especialmente para aprendizaje profundo (Deep Learning), que es una categoría de modelos de aprendizaje automático que usan redes neuronales multicapa.  Fue desarrollada por el __[Google Brain Team](https://ai.google/research/teams/brain/)__ para uso interno, sin embargo, fue liberada posteriormente al publico bajo la licencia Apache 2.0 en noviembre del 2015, y su primera versión estable fue liberada en el 2017."
   ]
  },
  {
   "cell_type": "markdown",
   "metadata": {},
   "source": [
    "TensorFlow está programado en C++ y Python. "
   ]
  },
  {
   "cell_type": "markdown",
   "metadata": {},
   "source": [
    "Con TensorFlow es posible extender el uso de Deep Learning a un rango amplio de aplicaciones."
   ]
  },
  {
   "cell_type": "markdown",
   "metadata": {},
   "source": [
    "Los cálculos numéricos con TensorFlow se hacen por medio de gráficos de flujo de datos. Estos gráficos se pueden ver como una red de nodos interconectados, donde un nodo representa una operación matemática, que ejecuta una función. Esta función puede ser algo simple como una suma o resta o algo complejo como una ecuación de muchas variables."
   ]
  },
  {
   "cell_type": "markdown",
   "metadata": {},
   "source": [
    "Cada operación puede retornar cero o más tensores que se pueden utilizar luego en el gráfico.  Una operación puede usar como operando una constante, un arreglo, o una matriz.  Un tensor se define como una matriz de dimensión \"n\" y representa todos los tipos de datos en TensorFlow. Un tensor puede ser originado a partir de los datos de entrada o a partir del resultado de una operación. "
   ]
  },
  {
   "cell_type": "markdown",
   "metadata": {},
   "source": [
    "La siguiente figura muestra un ejemplo sencillo de cómo se construye un gráfico de flujo de datos."
   ]
  },
  {
   "cell_type": "markdown",
   "metadata": {},
   "source": [
    "![title](ComputationGraph.png)"
   ]
  },
  {
   "cell_type": "markdown",
   "metadata": {},
   "source": [
    "El gráfico muestra las operaciones y la conexión entre los nodos, sin embargo, no muestra los resultados.  El gráfico recolecta y describe la serie de cálculos hechos durante el entrenamiento y su uso tiene ciertas ventajas:\n",
    "-  Puede correr en diferentes CPUs, GPUs or sistemas operativos moviles.\n",
    "-  La portabilidad del gráfico permite conservar los cálculos para uso intermedio o inmediato, es decir el gráfico se puede guardar y ser ejecutado en el futuro."
   ]
  },
  {
   "cell_type": "markdown",
   "metadata": {},
   "source": [
    "El nombre \"TensorFlow\" se deriva de las operaciones que las redes neuronales realizan en los tensores. Literalmente es un flujo de tensores y operaciones, desde la entrada hasta la salida."
   ]
  },
  {
   "cell_type": "markdown",
   "metadata": {},
   "source": [
    "TensorFlow es muy popular porque fue construida para ser accesible a todos, ya que incorpora diferentes APIs para construir arquitecturas de Deep Learning como las redes neuronales recursivas o redes neuronales convolucionales. "
   ]
  },
  {
   "cell_type": "markdown",
   "metadata": {},
   "source": [
    "## 1.1. Casos de uso de TensorFlow"
   ]
  },
  {
   "cell_type": "markdown",
   "metadata": {},
   "source": [
    "Google utiliza TensorFlow en varios de sus productos y servicios actuales, por ejemplo, Gmail, donde por medio del componente \"Smart Reply\", se sugieren hasta 3 respuestas automáticamente basadas en el correo electrónico recibido."
   ]
  },
  {
   "cell_type": "markdown",
   "metadata": {},
   "source": [
    "![title](SmartReply.png)"
   ]
  },
  {
   "cell_type": "markdown",
   "metadata": {},
   "source": [
    "Google también utiliza TensorFlow en la aplicación Google Translate para realizar traducciones, clasificación de texto, reconocimiento de lenguaje, imágenes y escritura, entre una variedad de idiomas. Detrás de Google Translate hay una red neuronal, específicamente un modelo secuencia-a-secuencia, que básicamente son dos redes neuronales recurrentes: un codificador y un decodificador.  El codificador lee una palabra o parte de una palabra a la vez, creando una representación intermedia. Luego el decodificar recibe una señal de inicio que causa que se decodifique la palabra o la parte de la palabra (uno a la vez de igual forma que en el codificador) al lenguaje deseado. Una vez lista la decodificación, el decodificador alimenta el resultado al paso siguiente, entonces el estado previo y el resultado previo son utilizados para resolver que palabra emitir en el próximo paso. "
   ]
  },
  {
   "cell_type": "markdown",
   "metadata": {},
   "source": [
    "Ahora incluso Google Translate es capaz de traducir el texto en imágenes vistas por la cámara de los dispositivos móviles y traducirlo al lenguaje deseado."
   ]
  },
  {
   "cell_type": "markdown",
   "metadata": {},
   "source": [
    "![title](GoogleTranslate.png)"
   ]
  },
  {
   "cell_type": "markdown",
   "metadata": {},
   "source": [
    "Como Google libero TensorFlow, muchas otras empresas también hacen uso de esta plataforma en sus aplicaciones o servicios. Algunos ejemplos son Uber, Airbnb, Twitter, Airbus, IBM. \n",
    "<br><br>\n",
    "En el caso de Airbnb, utilizan TensorFlow y otros métodos de aprendizaje automático para la mitigación de riesgos en el uso del servicio. Son capaces de detectar anomalías donde ataques hechos por medio de algún programa provocan incrementos notables en alguna métrica en un periodo corto (por ejemplo, un incremento de 1000% en las reservaciones en una ciudad en particular). También utilizan TensorFlow para sugerir reservas basadas en los gustos de sus clientes y sus reservas anteriores.\n"
   ]
  },
  {
   "cell_type": "markdown",
   "metadata": {},
   "source": [
    "![title](Airbnb.png)"
   ]
  },
  {
   "cell_type": "markdown",
   "metadata": {},
   "source": [
    "El uso de TensorFlow y aprendizaje profundo también ha incursionado en la medicina. Investigadores de Google, en conjunto con doctores, desarrollaron inteligencia artificial capaz de detectar retinopatía diabética, una condición que causa ceguera entre los adultos. El sistema detecta esta condición al examinar fotos de la retina del ojo del paciente. El diagnostico ha llegado a ser tan efectivo como el de un oftalmólogo experto. Este tipo de ceguera se puede prevenir a menudo si se la retinopatía diabética se detecta temprano, y este el objetivo. Para entrenar la red neuronal, los investigadores de Google alimentaron alrededor de 130 mil imágenes de la retina de los pacientes al sistema.  Las imágenes habían sido examinadas por doctores previamente."
   ]
  },
  {
   "cell_type": "markdown",
   "metadata": {},
   "source": [
    "![title](BlindnessDiagnosis1.png)"
   ]
  },
  {
   "cell_type": "markdown",
   "metadata": {},
   "source": [
    "## 1.2. Desafios de TensorFlow"
   ]
  },
  {
   "cell_type": "markdown",
   "metadata": {},
   "source": [
    "Como se mencionó anteriormente, TensorFlow trabaja sobre redes neuronales. Una red neuronal típica tiene millones de parámetros, y un set de entrenamiento consiste de varios miles de instancias de datos.  Y estos datos deben estar organizados correctamente.  La recolección y preparación de estos datos requiere invertir tiempo y recursos. Además, si se hace de forma incorrecta, se transforma en un riesgo sustancial para la empresa implementando aprendizaje automático.\n",
    "<br><br>\n",
    "Otro contratiempo es que esta cantidad tan grande de datos necesaria para entrenar a los modelos, no siempre es gratis. A veces se necesita comprar los sets de datos listos. \n",
    "<br><br>\n",
    "Los algoritmos de Deep Learning con TensorFlow construyen una representación jerárquica de datos y capas que les permiten crear su inteligencia artificial o entendimiento de cómo funcionan los datos.  Sin embargo, los ingenieros de ciencia de los datos no saben exactamente cómo es que los algoritmos aprenden.  A esto se le llama el problema de la caja negra. Para los ingenieros es muy difícil comprender como funciona todo el modelo. Y esto conlleva riesgos consigo, por ejemplo, ¿cómo explicar cuando el piloto automático de un vehículo autónomo falle y ocurra un accidente fatal?, ¿que pasaría cuando un algoritmo de IA haga un diagnostico medico erróneo?\n",
    "<br><br>\n",
    "Aunque cada vez más y más personas se ven atraídas hacia la industria de aprendizaje automático con TensorFlow, aún existen en realidad pocos especialistas que puedan desarrollar esta tecnología. Se estima que hay menos de 10 mil personas a nivel mundial con las habilidades necesarias para realizar investigaciones serias de aprendizaje automático.  Esto causa que los salarios en esta rama se alcen muchísimo, pero no necesariamente esto implica que la calidad de los especialistas sea la óptima. \n",
    "<br><br>\n",
    "Si los datos que se desean analizar son personales, la gente cada vez está más alerta a la protección de su privacidad, y menos anuentes a compartirlos. Además, existen nuevas regulaciones acerca de la protección de datos personales.\n",
    "<br><br>\n",
    "Otro punto a tomar en cuenta es que la primera versión de TensorFlow fue liberada por Google en febrero del 2017, es decir, es una tecnología bastante joven y aunque esta en desarrollo, puede que aún no esté al 100% lista para uso masivo.\n",
    "<br><br>\n",
    "TensorFlow trabaja por capas, los ingenieros escriben un programa que va a su vez generar otro programa que va a aprender por sí mismo a realizar las acciones que fueron programadas inicialmente para cumplir con las metas.  Esto es complicado, y toma tiempo.  Todo el proceso de recolectar y preparar los datos y luego entrenar al algoritmo consume bastante tiempo y hay muchas incertidumbres. Por lo tanto, predecir cuándo va estar listo un sistema de aprendizaje automático es una tarea complicada."
   ]
  },
  {
   "cell_type": "markdown",
   "metadata": {},
   "source": [
    "## 1.3. Comparación de TensorFlow con otras plataformas de Deep Learning"
   ]
  },
  {
   "cell_type": "markdown",
   "metadata": {},
   "source": [
    "![title](DL_Frameworks.png)"
   ]
  },
  {
   "cell_type": "markdown",
   "metadata": {},
   "source": [
    "Actualmente existen varias plataformas para Deep Learning. TensorFlow es considerada la mejor hasta el momento, y ha sido adoptada por varios gigantes de la tecnología como Airbus, Twitter, IBM, Airbnb.  Esto debido a que TensorFlow tiene una arquitectura sumamente flexible.\n",
    "<br> \n",
    "TensorFlow está disponible tanto en aplicaciones tipo desktop como en aplicaciones móviles, y soporta lenguajes como Python, C++ y R para crear los modelos de Deep Learning utilizando bibliotecas.\n",
    "<br><br>\n",
    "TensorFlow es normalmente la primera opción para dar los primeros pasos hacia Deep Learning, ya que es basado en Python, es soportado por Google, y tiene muchísima documentación y ejemplos para guiar a las personas.\n",
    "<br><br> \n",
    "Keras es más un API para Deep Learning que una plataforma en sí, sin embargo, es bastante popular, e incluso corre encima de TensorFlow.\n",
    "<br><br> \n",
    "PyTorch es una plataforma para Deep Learning basado en el lenguaje Python, y es sumamente utilizado por algunos gigantes de la industria como Facebook, y Twitter. PyTorch ha crecido mucho en popularidad recientemente. Permite una personalización que TensorFlow no. \n",
    "<br><br> \n",
    "Caffe es una plataforma para Deep Learning con interfaces como C, C++, Python y MATLAB. Es bastante conocido por su velocidad y su aplicabilidad en redes neuronales convolucionales (CNNs). En cuanto a velocidad, este marco es capaz de procesar hasta 60 millones de imágenes diariamente en un único GPU Nvidia K40.  También es bastante popular con redes neuronales para hacer reconocimiento visual. Sin embargo, por su arquitectura, el soporte general para redes recurrentes (como las utilizadas en Google Translate) es pobre y establecer capas más complejas debe hacerse en un lenguaje de bajo nivel.\n",
    "<br><br>\n",
    "La plataforma de Deep Learning de Microsoft, Microsoft Cognitive Toolkit o CNTK, es popular por que el entrenamiento de las redes es relativamente sencillo. Esta plataforma realiza redes neuronales convolucionales de forma eficiente y se pueden entrenar para reconocer imágenes, habla y texto. Se dice que provee mejor rendimiento y escalabilidad comparado con otras herramientas como Theano o el mismo TensorFlow cuando opera en múltiples maquinas, ya que hace un uso coherente de los recursos.\n",
    "<br><br> \n",
    "Acá vemos una gráfica de las estadísticas de las diferentes plataformas para Deep Learning en GitHub para el año 2018, para darnos una idea de la popularidad y la utilización de cada uno."
   ]
  },
  {
   "cell_type": "markdown",
   "metadata": {},
   "source": [
    "![title](DL_Comparison.png)"
   ]
  },
  {
   "cell_type": "markdown",
   "metadata": {},
   "source": [
    "## 1.4. Estado del arte de TensorFlow"
   ]
  },
  {
   "cell_type": "markdown",
   "metadata": {},
   "source": [
    "La ultima versión estable de TensorFlow es la 1.14.  Pero TensorFlow 2.0 se encuentra actualmente disponible en una versión Beta que se puede instalar desde la página web de TensorFlow.  La fecha de liberación de esta versión era Q2 2019. Con esta nueva versión, se espera que sea más sencillo aprender y aplicar TensorFlow. Además, Keras se encuentra aún más integrado con el ecosistema de TensorFlow en esta versión. \n",
    "<br><br>\n",
    "Además, TensorFlow 2.0 incluye TensorFlow Datasets, una colección de sets de datos comúnmente usados preparados para que sean fáciles de usar con TensorFlow.\n",
    "<br><br>\n",
    "Algunos de los usos más recientes de TensorFlow incluyen una aplicación móvil para detectar cambios en la calidad del aire, médicos están haciendo que las resonancias electromagnéticas sean más reproducibles y exactas, además se estudiaron los efectos de clima extremo en la supercomputadora Summit.\n",
    "<br><br>\n",
    "Se han anunciado convenios e iniciativas de educación con empresas como Udacity, Coursera and fast.ia para tener colaboración de fuente abierta y lograr entrenar a la nueva generación de usuarios de TensorFlow.\n",
    "<br><br>\n",
    "TensorFlow Lite es la solución para correr modelos de aprendizaje automático en móviles y sistemas embebidos y su uso se ha expandido globalmente y ahora corre en más de 2 billones de dispositivos móviles.  Grandes compañías como Alibaba lo utilizan para crear una mejor experiencia de usuario en sus aplicaciones."
   ]
  },
  {
   "cell_type": "markdown",
   "metadata": {},
   "source": [
    "## 2. TensorBoard"
   ]
  },
  {
   "cell_type": "markdown",
   "metadata": {},
   "source": [
    "TensorBoard es una herramienta de medición y visualización desarrollada por ingenieros de Google para entender el confuso mundo de TensorFlow de manera gráfica y sencilla. Así, TensorBoard nos ayuda a visualizar la estructura computacional de TensorFlow, además de habilitar métricas experimentales como \"loss\" y \"accuracy\".  TensorBoard también permite optimizar el modelo, al poder visualizar el comportamiento del mismo."
   ]
  },
  {
   "cell_type": "markdown",
   "metadata": {},
   "source": [
    "El TensorBoard Dashboard muestra los diferentes gráficos .  Existen diferentes pestañas:"
   ]
  },
  {
   "cell_type": "markdown",
   "metadata": {},
   "source": [
    "### Scalars"
   ]
  },
  {
   "cell_type": "markdown",
   "metadata": {},
   "source": [
    "Muestra como las métricas cambian a lo largo del tiempo para cada corrimiento. De igual manera, se puede dar seguimiento a la velocidad de entrenamiento, la tasa de entrenamiento y otros valores."
   ]
  },
  {
   "cell_type": "markdown",
   "metadata": {},
   "source": [
    "![title](Scalars.png)"
   ]
  },
  {
   "cell_type": "markdown",
   "metadata": {},
   "source": [
    "### Graphs"
   ]
  },
  {
   "cell_type": "markdown",
   "metadata": {},
   "source": [
    "Ayuda al usuario a observar gráficamente las capas de un modelo y por ende si están construidas adecuadamente."
   ]
  },
  {
   "cell_type": "markdown",
   "metadata": {},
   "source": [
    "![title](Graphs.png)"
   ]
  },
  {
   "cell_type": "markdown",
   "metadata": {},
   "source": [
    "### Distributions / Histograms"
   ]
  },
  {
   "cell_type": "markdown",
   "metadata": {},
   "source": [
    "Muestra la distribución del tensor o variable a través del tiempo. Esto puede ser de mucha utilidad para visualizar los pesos y sesgos y visualizar su comportamiento."
   ]
  },
  {
   "cell_type": "markdown",
   "metadata": {},
   "source": [
    "![title](Histogram.png)"
   ]
  },
  {
   "cell_type": "markdown",
   "metadata": {},
   "source": [
    "## 3. Ejemplo de uso de  TensorFlow y TensorBoard"
   ]
  },
  {
   "cell_type": "markdown",
   "metadata": {},
   "source": [
    "En el siguiente ejemplo, vamos a utilizar el set de datos MNIST. MNIST es una base de datos de imágenes de dígitos numéricos (0 a 9) escritos a mano.  Contiene un set de entrenamiento de 60 mil ejemplos y un set de pruebas de 10 mil ejemplos. Cabe la pena mencionar que el set de datos ya ha sido pre-procesado y los dígitos han sido normalizados en cuanto a tamaño y centrados en una imagen de tamaño fijo. Es una base de datos ideal para gente que quiere entrenarse en aprendizaje automático y reconocimiento de patrones usando datos de la vida real, sin tener que llevar a cabo todo el pre-procesado de los datos.    "
   ]
  },
  {
   "cell_type": "markdown",
   "metadata": {},
   "source": [
    "MNIST es un subconjunto de NIST, una base de datos más grande.  Las imágenes originales de NIST son en blanco y negro.  Estas imágenes fueron normalizadas en cuanto a tamaño para caber en una caja de 20x20 pixeles, preservando su relación de aspecto.  Las imágenes resultantes contienen niveles grises como resultado de las técnicas anti-aliasing usada por el algoritmo de normalización. Estas imágenes de 20x20 pixeles fueron centradas en una imagen de 28x28 pixeles calculando el centro de masa de los pixeles y moviendo ese punto al centro de la imagen de 28x28 pixeles."
   ]
  },
  {
   "cell_type": "markdown",
   "metadata": {},
   "source": [
    "Cada pixel de escala de grises contiene un valor entero entre 0 y 255 para indicar la oscuridad, donde 0 es blanco y 255 es negro."
   ]
  },
  {
   "cell_type": "markdown",
   "metadata": {},
   "source": [
    "Empecemos con el ejemplo:"
   ]
  },
  {
   "cell_type": "code",
   "execution_count": 1,
   "metadata": {},
   "outputs": [],
   "source": [
    "# importar los módulos necesarios para el ejemplo\n",
    "import tensorflow as tf\n",
    "import numpy as np\n",
    "import datetime, os\n",
    "import matplotlib.cm as cm\n",
    "import matplotlib.pyplot as plt\n",
    "\n",
    "# cargar la extensión de TensorBoard\n",
    "%load_ext tensorboard"
   ]
  },
  {
   "cell_type": "code",
   "execution_count": 2,
   "metadata": {},
   "outputs": [
    {
     "name": "stdout",
     "output_type": "stream",
     "text": [
      "1.14.0\n"
     ]
    }
   ],
   "source": [
    "# imprimir la versión de TensorFlow utilizada\n",
    "print(tf.__version__)"
   ]
  },
  {
   "cell_type": "code",
   "execution_count": 3,
   "metadata": {},
   "outputs": [],
   "source": [
    "# limpiar la pila del gráfico por default de TensorBoard y resetear el gráfico global default\n",
    "tf.reset_default_graph()"
   ]
  },
  {
   "cell_type": "code",
   "execution_count": 4,
   "metadata": {},
   "outputs": [],
   "source": [
    "# cargar el módulo tf.keras.datasets.mnist para luego usarlo para cargar los datos\n",
    "mnist=tf.keras.datasets.mnist \n",
    "\n",
    "# cargar el set de datos de MNIST desde la nube y dividirlo en los sets de entrenamiento y de pruebas\n",
    "(x_train, y_train), (x_test, y_test) = mnist.load_data()"
   ]
  },
  {
   "cell_type": "code",
   "execution_count": 5,
   "metadata": {},
   "outputs": [
    {
     "name": "stdout",
     "output_type": "stream",
     "text": [
      "x_train: tipo de datos:  <class 'numpy.ndarray'> , tamaño:  47040000 , dimensiones:  (60000, 28, 28)\n",
      "y_train: tipo de datos:  <class 'numpy.ndarray'> , tamaño:  60000 , dimensiones:  (60000,)\n",
      "x_test: tipo de datos:  <class 'numpy.ndarray'> , tamaño:  7840000 , dimensiones:  (10000, 28, 28)\n",
      "y_test: tipo de datos:  <class 'numpy.ndarray'> , tamaño:  10000 , dimensiones:  (10000,)\n"
     ]
    }
   ],
   "source": [
    "# imprimir el tipo de datos, tamaño y dimensiones de los sets de entrenamiento y de pruebas\n",
    "print(\"x_train: tipo de datos: \", type(x_train), \", tamaño: \", x_train.size, \", dimensiones: \", x_train.shape)\n",
    "print(\"y_train: tipo de datos: \",type(y_train), \", tamaño: \",y_train.size, \", dimensiones: \", y_train.shape)\n",
    "print(\"x_test: tipo de datos: \",type(x_test), \", tamaño: \",x_test.size, \", dimensiones: \", x_test.shape)\n",
    "print(\"y_test: tipo de datos: \",type(y_test), \", tamaño: \",y_test.size, \", dimensiones: \", y_test.shape)"
   ]
  },
  {
   "cell_type": "markdown",
   "metadata": {},
   "source": [
    "Ahora veamos como se ve una de las imágenes, por ejemplo, la posición 20 del set de entrenamiento de entrada:"
   ]
  },
  {
   "cell_type": "code",
   "execution_count": 6,
   "metadata": {},
   "outputs": [
    {
     "data": {
      "text/plain": [
       "<matplotlib.image.AxesImage at 0x7f651f094358>"
      ]
     },
     "execution_count": 6,
     "metadata": {},
     "output_type": "execute_result"
    },
    {
     "data": {
      "image/png": "[encoded data removed]",
      "text/plain": [
       "<Figure size 432x288 with 1 Axes>"
      ]
     },
     "metadata": {
      "needs_background": "light"
     },
     "output_type": "display_data"
    }
   ],
   "source": [
    "# utilizar matplotlib.pyplot.imshow para visualizar la imágen, usando el Colormap de grises\n",
    "plt.imshow(x_train[20].reshape(28, 28), cmap=cm.Greys)"
   ]
  },
  {
   "cell_type": "code",
   "execution_count": 7,
   "metadata": {},
   "outputs": [
    {
     "name": "stdout",
     "output_type": "stream",
     "text": [
      "Valor de y_train en la posición 20:  4\n"
     ]
    }
   ],
   "source": [
    "print(\"Valor de y_train en la posición 20: \", y_train[20])"
   ]
  },
  {
   "cell_type": "markdown",
   "metadata": {},
   "source": [
    "Vemos que se trata entonces de aprendizaje supervisado. Veamos ejemplos de las imágenes de cada uno de los dígitos.  Primero encontrar una instancia correspondiente a cada digito."
   ]
  },
  {
   "cell_type": "code",
   "execution_count": 8,
   "metadata": {},
   "outputs": [],
   "source": [
    "# función que encuentra un valor especifico en el arreglo\n",
    "def findValue(value):\n",
    "    \n",
    "    for i in range(len(y_test)):\n",
    "        if (y_test[i]==value):\n",
    "            return x_test[i]\n",
    "            \n",
    "digitValues=[0] * 10\n",
    "\n",
    "for i in range(0, 10):\n",
    "    digitValues[i]=findValue(i)   "
   ]
  },
  {
   "cell_type": "code",
   "execution_count": 9,
   "metadata": {},
   "outputs": [
    {
     "data": {
      "text/plain": [
       "<function matplotlib.pyplot.show(*args, **kw)>"
      ]
     },
     "execution_count": 9,
     "metadata": {},
     "output_type": "execute_result"
    },
    {
     "data": {
      "image/png": "[encoded data removed]",
      "text/plain": [
       "<Figure size 648x360 with 10 Axes>"
      ]
     },
     "metadata": {},
     "output_type": "display_data"
    }
   ],
   "source": [
    "# graficar los digitos\n",
    "fig, axes = plt.subplots(2, 5, figsize=[9,5])\n",
    "\n",
    "for i, ax in enumerate(axes.flat):\n",
    "    ax.imshow(digitValues[i].reshape(28, 28), cmap=cm.Greys)\n",
    "    ax.set_xticks([])\n",
    "    ax.set_yticks([])\n",
    "plt.show"
   ]
  },
  {
   "cell_type": "code",
   "execution_count": 10,
   "metadata": {},
   "outputs": [],
   "source": [
    "# normalizar los datos a la escala de 0.0 a 1.0 para procesar más rápido\n",
    "x_train, x_test = x_train / 255.0, x_test / 255.0"
   ]
  },
  {
   "cell_type": "code",
   "execution_count": 11,
   "metadata": {},
   "outputs": [],
   "source": [
    "# definir el modelo secuencial usando el API de Keras.\n",
    "# En Keras, se crean capas o layers para crear modelos.\n",
    "# Un modelo es usualmente un gráfico de capas y el modelo más común es una pila de capas. \n",
    "# En este modelo, hay 4 capas.\n",
    "\n",
    "def create_model():\n",
    "    return tf.keras.models.Sequential([\n",
    "        # redimensionar los datos de entrada a un arreglo de 1 dimensión\n",
    "        tf.keras.layers.Flatten(input_shape=(28, 28)), \n",
    "        \n",
    "        # le dice al modelo que use una salida de (*,512) con función de activación 'relu' (lineal rectificada)\n",
    "        tf.keras.layers.Dense(256, activation=tf.nn.relu), \n",
    "        \n",
    "        # aplicar Dropout a la entrada de la siguiente capa\n",
    "        # Dropout consiste en aleatoriamente poner una fracción de las entradas a cero en cada actualización\n",
    "        # durante el entrenamiento, para prevenir overfitting\n",
    "        tf.keras.layers.Dropout(0.25),\n",
    "        \n",
    "        # capa que condensa la salida en probabilidades para cada uno de los 10 dígitos\n",
    "        # con función de activación softmax (función exponencial normalizada)\n",
    "        tf.keras.layers.Dense(10, activation=tf.nn.softmax)\n",
    "    ])"
   ]
  },
  {
   "cell_type": "code",
   "execution_count": 12,
   "metadata": {},
   "outputs": [],
   "source": [
    "# deshabilitar mensajes de error obsoletos\n",
    "tf.logging.set_verbosity(tf.logging.ERROR)"
   ]
  },
  {
   "cell_type": "code",
   "execution_count": 13,
   "metadata": {},
   "outputs": [],
   "source": [
    "# crear el modelo\n",
    "model=create_model()"
   ]
  },
  {
   "cell_type": "code",
   "execution_count": 14,
   "metadata": {},
   "outputs": [],
   "source": [
    "# compilar el modelo\n",
    "\n",
    "# Adam es un algoritmo de optimización que usa gradiente estocástico descendiente \n",
    "# para actualizar los pesos de la red\n",
    "\n",
    "# Sparse_categorical_crossentropy es una función de pérdidas que es requerida para compilar el modelo.\n",
    "# La función de perdidas mide que tan exacto es el modelo durante el entrenamiento.\n",
    "# La idea es minimizar esta función para direccionar el modelo en la dirección correcta\n",
    "\n",
    "# Una métrica es una función que es usada para juzgar el rendimiento del modelo.\n",
    "# Vamos a utilizar la exactitud de las predicciones contra la salida de pruebas (y_test) como la métrica\n",
    "\n",
    "model.compile(optimizer='adam',\n",
    "              loss='sparse_categorical_crossentropy',\n",
    "              metrics=['accuracy'])"
   ]
  },
  {
   "cell_type": "code",
   "execution_count": 15,
   "metadata": {},
   "outputs": [
    {
     "name": "stdout",
     "output_type": "stream",
     "text": [
      "./logs/fit/20190718-145201\n"
     ]
    }
   ],
   "source": [
    "# definir donde queremos que se creen los logs para TensorBoard\n",
    "logs_base_dir = \"./logs/fit\"\n",
    "os.makedirs(logs_base_dir, exist_ok=True)\n",
    "logdir = os.path.join(logs_base_dir, datetime.datetime.now().strftime(\"%Y%m%d-%H%M%S\"))\n",
    "print(logdir)\n",
    "# definir el callback de TensorBoard, que permite la visualización de los datos en TensorBoard\n",
    "tensorboard_callback = tf.keras.callbacks.TensorBoard(log_dir=logdir,histogram_freq=1)"
   ]
  },
  {
   "cell_type": "code",
   "execution_count": 16,
   "metadata": {},
   "outputs": [
    {
     "name": "stdout",
     "output_type": "stream",
     "text": [
      "Train on 60000 samples, validate on 10000 samples\n",
      "Epoch 1/4\n",
      "60000/60000 [==============================] - 10s 171us/sample - loss: 0.2580 - acc: 0.9234 - val_loss: 0.1259 - val_acc: 0.9625\n",
      "Epoch 2/4\n",
      "60000/60000 [==============================] - 10s 168us/sample - loss: 0.1176 - acc: 0.9646 - val_loss: 0.0906 - val_acc: 0.9720\n",
      "Epoch 3/4\n",
      "60000/60000 [==============================] - 12s 198us/sample - loss: 0.0880 - acc: 0.9719 - val_loss: 0.0766 - val_acc: 0.9761\n",
      "Epoch 4/4\n",
      "60000/60000 [==============================] - 14s 226us/sample - loss: 0.0707 - acc: 0.9777 - val_loss: 0.0769 - val_acc: 0.9763\n"
     ]
    },
    {
     "data": {
      "text/plain": [
       "<tensorflow.python.keras.callbacks.History at 0x7f651edd15c0>"
      ]
     },
     "execution_count": 16,
     "metadata": {},
     "output_type": "execute_result"
    }
   ],
   "source": [
    "# ejecutar el modelo, usando los sets de entrenamiento y corriendo 4 repeticiones\n",
    "model.fit(x=x_train, \n",
    "          y=y_train, \n",
    "          epochs=4, \n",
    "          validation_data=(x_test, y_test), \n",
    "          callbacks=[tensorboard_callback])"
   ]
  },
  {
   "cell_type": "code",
   "execution_count": 17,
   "metadata": {},
   "outputs": [
    {
     "name": "stdout",
     "output_type": "stream",
     "text": [
      "10000/10000 [==============================] - 1s 92us/sample - loss: 0.0769 - acc: 0.9763\n"
     ]
    },
    {
     "data": {
      "text/plain": [
       "[0.07686867388319224, 0.9763]"
      ]
     },
     "execution_count": 17,
     "metadata": {},
     "output_type": "execute_result"
    }
   ],
   "source": [
    "# evaluar la exactitud del modelo utilizando los sets de pruebas\n",
    "model.evaluate(x_test, y_test)"
   ]
  },
  {
   "cell_type": "code",
   "execution_count": 18,
   "metadata": {},
   "outputs": [],
   "source": [
    "# generar predicciones para el set de pruebas\n",
    "# las predicciones están en la forma de una lista de 10 flotantes que indican la probabilidad de cada digito \n",
    "predictions = model.predict(x_test)"
   ]
  },
  {
   "cell_type": "code",
   "execution_count": 19,
   "metadata": {},
   "outputs": [
    {
     "name": "stdout",
     "output_type": "stream",
     "text": [
      "[1.8342385e-08 1.0210560e-07 2.3709877e-07 5.2758458e-04 2.5380853e-06\n",
      " 9.9806529e-01 6.4413319e-07 1.8395589e-06 6.9404996e-05 1.3323962e-03]\n"
     ]
    }
   ],
   "source": [
    "# por ejemplo, imprimimos la predicción para el valor en la posición 53, y el valor máximo corresponde \n",
    "# a la probabilidad del digito que predijo la red  \n",
    "print(predictions[53])"
   ]
  },
  {
   "cell_type": "code",
   "execution_count": 20,
   "metadata": {},
   "outputs": [
    {
     "name": "stdout",
     "output_type": "stream",
     "text": [
      "5\n"
     ]
    }
   ],
   "source": [
    "# para averiguar el digito podemos utilizar la función argmax de numpy\n",
    "print(np.argmax(predictions[53]))"
   ]
  },
  {
   "cell_type": "code",
   "execution_count": 21,
   "metadata": {},
   "outputs": [
    {
     "data": {
      "text/plain": [
       "<matplotlib.image.AxesImage at 0x7f65041dfd68>"
      ]
     },
     "execution_count": 21,
     "metadata": {},
     "output_type": "execute_result"
    },
    {
     "data": {
      "image/png": "[encoded data removed]",
      "text/plain": [
       "<Figure size 432x288 with 1 Axes>"
      ]
     },
     "metadata": {
      "needs_background": "light"
     },
     "output_type": "display_data"
    }
   ],
   "source": [
    "# para comprobar podemos ver la imagen correspondiente al set de pruebas en la posición 53\n",
    "plt.imshow(x_test[53].reshape(28, 28), cmap=cm.Greys)"
   ]
  },
  {
   "cell_type": "code",
   "execution_count": 22,
   "metadata": {
    "scrolled": true
   },
   "outputs": [
    {
     "data": {
      "text/plain": [
       "Reusing TensorBoard on port 6006 (pid 5210), started 0:55:39 ago. (Use '!kill 5210' to kill it.)"
      ]
     },
     "metadata": {},
     "output_type": "display_data"
    },
    {
     "data": {
      "text/html": [
       "\n",
       "        <iframe\n",
       "            width=\"100%\"\n",
       "            height=\"800\"\n",
       "            src=\"http://localhost:6006\"\n",
       "            frameborder=\"0\"\n",
       "            allowfullscreen\n",
       "        ></iframe>\n",
       "        "
      ],
      "text/plain": [
       "<IPython.lib.display.IFrame at 0x7f651fb1a390>"
      ]
     },
     "metadata": {},
     "output_type": "display_data"
    }
   ],
   "source": [
    "# ahora podemos utilizar TensorBoard para visualizar como se comporta el modelo\n",
    "%tensorboard --logdir {logs_base_dir}"
   ]
  },
  {
   "cell_type": "markdown",
   "metadata": {},
   "source": [
    "Nota: En caso que no se vea la salida de TensorBoard en GitHub especificamente, el siguiente pantallazo muestra lo que se genera."
   ]
  },
  {
   "cell_type": "markdown",
   "metadata": {},
   "source": [
    "![title](TensorBoard.png)"
   ]
  },
  {
   "cell_type": "markdown",
   "metadata": {},
   "source": [
    "## 4. TensorFlow.Text"
   ]
  },
  {
   "cell_type": "markdown",
   "metadata": {},
   "source": [
    "TensorFlow.Text (TF.Text) es una biblioteca para pre-procesar modelos de lenguaje usando TensorFlow.\n",
    "<br><br>\n",
    "TensorFlow provee una gran variedad de operaciones de mucha ayuda para construir modelos a partir de imágenes o video. Sin embargo, hay muchos modelos que inician con texto.\n",
    "<br><br>\n",
    "TF.Text es parte de TensorFlow 2.0 y posee operaciones para hacer el pre-procesado comúnmente realizado en modelos basados en texto. La ventaja es que se hacen en el mismo grafico de flujo de tensores de TensorFlow. Además posee otras características que no provee TensorFlow por sí solo.\n",
    "<br><br>\n",
    "TF.Text es capaz de clasificar el texto en fichas (\"tokens\") y así analizar palabras, números y puntuación."
   ]
  },
  {
   "cell_type": "markdown",
   "metadata": {},
   "source": [
    "![title](tokenizer.gif)"
   ]
  },
  {
   "cell_type": "markdown",
   "metadata": {},
   "source": [
    "Puede crear tokens a partir de espacio en blanco, código Unicode y secuencias predeterminadas de fragmentos de palabras como sufijos o prefijos(llamadas \"wordpieces\"):\n",
    "\n",
    "tensorflow_text.WhitespaceTokenizer()<br>\n",
    "tokenizer = tensorflow_text.UnicodeScriptTokenizer()<br>\n",
    "tokenizer = tensorflow_text.WordpieceTokenizer(vocab_table, token_out_type=tf.string)"
   ]
  }
 ],
 "metadata": {
  "kernelspec": {
   "display_name": "Python 3",
   "language": "python",
   "name": "python3"
  },
  "language_info": {
   "codemirror_mode": {
    "name": "ipython",
    "version": 3
   },
   "file_extension": ".py",
   "mimetype": "text/x-python",
   "name": "python",
   "nbconvert_exporter": "python",
   "pygments_lexer": "ipython3",
   "version": "3.7.3"
  }
 },
 "nbformat": 4,
 "nbformat_minor": 2
}
