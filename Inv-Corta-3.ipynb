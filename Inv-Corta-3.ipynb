{
 "cells": [
  {
   "cell_type": "markdown",
   "metadata": {},
   "source": [
    "Instituto Tecnológico de Costa Rica<br>\n",
    "Escuela de Ingeniería en Electrónica<br>\n",
    "Maestría en Electrónica con énfasis en Sistemas Embebidos<br>\n",
    "Curso: Reconocimiento de Patrones - II Cuatrimestre 2019<br>\n",
    "Profesor: MSc.Felipe Meza<br>\n",
    "Estudiantes:<br>\n",
    "José Pablo Vernavá Amador (Carnet 200307876)<br>\n",
    "Albert Hernández Chavarría (Carnet 200336626)<br>"
   ]
  },
  {
   "cell_type": "markdown",
   "metadata": {},
   "source": [
    "# Investigación Corta # 3: "
   ]
  },
  {
   "cell_type": "markdown",
   "metadata": {},
   "source": [
    "## <font color=blue>1. TensorFlow</font>"
   ]
  },
  {
   "cell_type": "markdown",
   "metadata": {},
   "source": [
    "<div style=\"text-align: justify\">TensorFlow es una plataforma de código abierto para calculos numéricos y aprendizaje automático.  Fue desarrollada por el [Google Brain Team](https://ai.google/research/teams/brain/) para uso interno, sin embargo, fue liberada posteriormente bajo la licencia Apache 2.0.  TensorFlow está programado en C++ y Python. </div> "
   ]
  },
  {
   "cell_type": "markdown",
   "metadata": {},
   "source": [
    "<div style=\"text-align: justify\">Con TensorFlow es posible extender el uso de aprendizaje profundo (deep learning) a un rango amplio de aplicaciones.</div> "
   ]
  },
  {
   "cell_type": "markdown",
   "metadata": {},
   "source": [
    "<div style=\"text-align: justify\">Los calculos numericos con TensorFlow se hacen por medio de graficos de flujo de datos. En estos graficos, los nodos representan operaciones matematicas, mientras que las orillas representan los datos, que usualmente son arreglos multidimensionales, o tensores.</div>"
   ]
  },
  {
   "cell_type": "markdown",
   "metadata": {},
   "source": [
    "<div style=\"text-align: justify\">El nombre \"TensorFlow\" se deriva de las operaciones que las redes neuronales realizan en los tensores. Literalmente es un flujo de tensores. </div>"
   ]
  },
  {
   "cell_type": "markdown",
   "metadata": {},
   "source": [
    "<font color=red>Falta mas teoria de TensorFlow.<br>Falta corregir ortografia</font>"
   ]
  },
  {
   "cell_type": "markdown",
   "metadata": {},
   "source": [
    "## <font color=blue>1.1. Casos de uso de TensorFlow</font>"
   ]
  },
  {
   "cell_type": "markdown",
   "metadata": {},
   "source": [
    "<div style=\"text-align: justify\">\n",
    "    Google utiliza TensorFlow en varios de sus productos y servicios actuales, por ejemplo Gmail, donde por medio  del componente \"Smart Reply\", se sugieren hasta 3 respuestas automaticamente basadas en el correo electronico recibido. </div>"
   ]
  },
  {
   "cell_type": "markdown",
   "metadata": {},
   "source": [
    "![title](SmartReply.png)"
   ]
  },
  {
   "cell_type": "markdown",
   "metadata": {},
   "source": [
    "<div style=\"text-align: justify\">\n",
    "    Google tambien utiliza TensorFlow en la aplicacion Google Translate para realizar traducciones entre una variedad de idiomas. Detras de Google Translate hay una red neuronal, especificamente un modelo secuencia-a-secuencia, que basicamente son dos redes neuronales recurrentes: un codificador y un decodificador.  El codificador lee una palabra o parte de una palabra a la vez, creando un representacion intermedia. Luego el decodificar recibe una señal de inicio que causa que se decodifique la palabra o la parte de la palabra (uno a la vez de igual forma que en el codificador) al lenguaje deseado. Una vez lista la decodificacion, el decodificador alimenta el resultado al paso siguiente, entonces el estado previo y el resultado previo son utilizados para resolver que palabra emiter en el proximo paso. \n",
    "\n",
    "Ahora incluso Google Translate es capaz de traducir el texto en imagenes vistas por la camara de los dispositivos mobiles y traducirlo al lenguaje deseado.</div>"
   ]
  },
  {
   "cell_type": "markdown",
   "metadata": {},
   "source": [
    "![title](GoogleTranslate.png)"
   ]
  },
  {
   "cell_type": "markdown",
   "metadata": {},
   "source": [
    "<div style=\"text-align: justify\">\n",
    "    Como Google libero TensorFlow, muchas otras empresas tambien hacen uso de esta plataforma en sus aplicaciones o servicios. Algunos ejemplo son Uber, Airbnb, Twitter, Airbus, IBM. \n",
    "    En el caso de Airbnb, utilizan TensorFlow y otros metodos de aprendizaje automatico para la mitigacion de riesgos en el uso del servicio. Son capaces de detectar anomalias donde ataques hechos por medio de algun programa provocan incrementos notables en alguna metrica en un periodo corto (por ejemplo, un incremento de 1000% en las reservaciones en una ciudad en particular). Tambien utilizan TensorFlow para sugerir reservas basadas en los gustos de sus clientes y sus reservas anteriores.</div>"
   ]
  },
  {
   "cell_type": "markdown",
   "metadata": {},
   "source": [
    "![title](Airbnb.png)"
   ]
  },
  {
   "cell_type": "markdown",
   "metadata": {},
   "source": [
    "<div style=\"text-align: justify\">\n",
    "    El uso de TensorFlow y aprendizaje profundo tambien ha incursionado en la medicina. Investigadores de Google, en conjunto con doctores, desarrollaron inteligencia artificial capaz de detectar retinopatia diabetica, una condicion que causa ceguera entre los adultos. El sistema detecta esta condicion al examinar fotos de la retina del ojo del paciente. El diagnostico ha llegado a ser tan efectivo como el de un oftalmologo experto. Este tipo de ceguera se puede prevenir a menudo si se la retinopatia diabetica se detecta temprano, y este el objetivo. Para entrenar la red neuronal, los investigadores de Google alimentaron alrededor de 130 mil imagenes de la retina de los pacientes al sistema.  Las imagenes habian sido examinadas por doctores previamente.</div>"
   ]
  },
  {
   "cell_type": "markdown",
   "metadata": {},
   "source": [
    "![title](BlindnessDiagnosis1.png)"
   ]
  },
  {
   "cell_type": "markdown",
   "metadata": {},
   "source": [
    "## <font color=blue>1.2. Desafios de TensorFlow</font>"
   ]
  },
  {
   "cell_type": "markdown",
   "metadata": {},
   "source": [
    "<div style=\"text-align: justify\">\n",
    "    Como se menciono anteriormente, TensorFlow trabaja sobre redes neuronales. Una red neuronal tipica tiene millones de parametros, y un set de entrenamiento consiste de varios miles de instancias de datos.  Y estos datos deben estar organizados correctamente.  La recoleccion y preparacion de estos datos requiere invertir tiempo y recursos. Ademas, si se hace de forma incorrecta, se transforma en un riesgo sustancial para la empresa implementando aprendizaje automatico.</div>\n",
    "    <br>\n",
    "    <div style=\"text-align: justify\">\n",
    "Otro contratiempo es que esta cantidad tan grande de datos necesaria para entrenar a los modelos, no siempre es gratis. A veces se necesita comprar los sets de datos listos. </div>\n",
    "<br>\n",
    "    <div style=\"text-align: justify\">\n",
    "Los algoritmos de Deep Learning con TensorFlow construyen una representacion jerarquica de datos y capas que les permiten crear su inteligencia artificial o entendimiento de como funcionan los datos.  Sin embargo, los ingenerios de ciencia de los datos no saben exactamente como es que los algoritmos aprenden.  A esto se le llama el problema de la caja negra. Para los ingenieros es muy dificil comprender como funciona todo el modelo. Y esto conlleva riesgos consigo, por ejemplo, ¿como explicar cuando el piloto automatico de un vehiculo autonomo falle y ocurra un accidente fatal?, ¿que pasaria cuando un algoritmo de IA haga un diagnostico medico erroneo?.</div>\n",
    "<br>\n",
    "    <div style=\"text-align: justify\">\n",
    "Aunque cada vez mas y mas personas se ven atraidas hacia la industria de aprendizaje automatico con TensorFlow, aun existen en realidad pocos especialistas que puedan desarrollar esta tecnologia. Se estima que hay menos de 10 mil personas a nivel mundial con las habilidades necesarias para realizar investigaciones serias de aprendizaje automatico.  Esto causa que los salarios en esta rama se alcen muchisimo, pero no necesariamente esto implica que la calidad de los especialistas sea la optima. </div>\n",
    "<br>\n",
    "    <div style=\"text-align: justify\">\n",
    "Si los datos que se desean analizar son personales, la gente cada vez esta mas alerta a la proteccion de su privacidad, y menos anuentes a compartirlos. Ademas existen nuevas regulaciones acerca de la proteccion de datos personales.\n",
    "<br>\n",
    "    <div style=\"text-align: justify\">\n",
    "Otro punto a tomar en cuenta es que la primera version de TensorFlow fue liberada por Google en Febrero del 2017, es decir, es una tecnologia bastante joven y aunque esta en desarrollo, puede que aun no este al 100% lista para produccion. </div>\n",
    "<br>\n",
    "    <div style=\"text-align: justify\">\n",
    "TensorFlow trabaja por capas, los ingenieros escriben un programa que va a su vez generar otro programa que va a aprender por si mismo a realizar las acciones que fueron programadas inicialmente para cumplir con las metas.  Esto es complicado, y toma tiempo.  Todo el proceso de recolectar y preparar los datos y luego entrenar al algoritmo consume bastante tiempo y hay muchas incertidumbres. Por lo tanto, predecir cuando va estar listo un sistema de aprendizaje automatico es una tarea complicada.</div>"
   ]
  },
  {
   "cell_type": "markdown",
   "metadata": {},
   "source": [
    "## <font color=blue>1.4. Falta Comparacion de TensorFlow con otros frameworks</font>"
   ]
  },
  {
   "cell_type": "markdown",
   "metadata": {},
   "source": [
    "## <font color=blue>1.5. Falta Estado del arte de TensorFlow</font>"
   ]
  },
  {
   "cell_type": "markdown",
   "metadata": {},
   "source": [
    "## <font color=blue>1.6. Falta Ejemplo de uso de  TensorFlow (codigo)</font>"
   ]
  },
  {
   "cell_type": "markdown",
   "metadata": {},
   "source": [
    "## <font color=blue>2. TensorFlow.Text (seguir esquema para parte de TensorFlow)</font>"
   ]
  },
  {
   "cell_type": "markdown",
   "metadata": {},
   "source": [
    "<font color=red>En el caso de TF.text es un concepto nuevo deben abordarlo de la misma forma que TF (esto es, con las mismas recomendaciones de arriba).</font>"
   ]
  },
  {
   "cell_type": "markdown",
   "metadata": {},
   "source": [
    "## <font color=blue>3. TensorBoard (seguir esquema para parte de TensorFlow)</font>"
   ]
  },
  {
   "cell_type": "markdown",
   "metadata": {},
   "source": [
    "<font color=red>Para que se usa y seria muy bueno si lo pueden incluir como parte de la notebook, hay formas de usarlo por aparte pero recientemente se han creado métodos para incluirlo en la notebook de jupyter, les recomiendo abordar la forma de como se hace y que retos/cuidados puede tener.</font>"
   ]
  },
  {
   "cell_type": "code",
   "execution_count": null,
   "metadata": {},
   "outputs": [],
   "source": []
  }
 ],
 "metadata": {
  "kernelspec": {
   "display_name": "Python 3",
   "language": "python",
   "name": "python3"
  },
  "language_info": {
   "codemirror_mode": {
    "name": "ipython",
    "version": 3
   },
   "file_extension": ".py",
   "mimetype": "text/x-python",
   "name": "python",
   "nbconvert_exporter": "python",
   "pygments_lexer": "ipython3",
   "version": "3.7.3"
  }
 },
 "nbformat": 4,
 "nbformat_minor": 2
}
