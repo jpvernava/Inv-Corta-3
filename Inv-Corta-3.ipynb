{
 "cells": [
  {
   "cell_type": "markdown",
   "metadata": {},
   "source": [
    "Instituto Tecnológico de Costa Rica<br>\n",
    "Escuela de Ingeniería en Electrónica<br>\n",
    "Maestría en Electrónica con énfasis en Sistemas Embebidos<br>\n",
    "Curso: Reconocimiento de Patrones - II Cuatrimestre 2019<br>\n",
    "Profesor: MSc.Felipe Meza<br>\n",
    "Estudiantes:<br>\n",
    "José Pablo Vernavá Amador (Carnet 200307876)<br>\n",
    "Albert Hernández Chavarría (Carnet 200336626)<br>"
   ]
  },
  {
   "cell_type": "markdown",
   "metadata": {},
   "source": [
    "# Investigación Corta # 3: "
   ]
  },
  {
   "cell_type": "markdown",
   "metadata": {},
   "source": [
    "## 1. TensorFlow"
   ]
  },
  {
   "cell_type": "markdown",
   "metadata": {},
   "source": [
    "TensorFlow es una plataforma de código abierto para cálculos numéricos y aprendizaje automático, especialmente para aprendizaje profundo (Deep Learning), que es una categoría de modelos de aprendizaje automático que usan redes neuronales multicapa.  Fue desarrollada por el __[Google Brain Team](https://ai.google/research/teams/brain/)__ para uso interno, sin embargo, fue liberada posteriormente al publico bajo la licencia Apache 2.0 en noviembre del 2015, y su primera versión estable fue liberada en el 2017."
   ]
  },
  {
   "cell_type": "markdown",
   "metadata": {},
   "source": [
    "TensorFlow está programado en C++ y Python. "
   ]
  },
  {
   "cell_type": "markdown",
   "metadata": {},
   "source": [
    "Con TensorFlow es posible extender el uso de Deep Learning a un rango amplio de aplicaciones."
   ]
  },
  {
   "cell_type": "markdown",
   "metadata": {},
   "source": [
    "Los cálculos numéricos con TensorFlow se hacen por medio de gráficos de flujo de datos. Estos gráficos se pueden ver como una red de nodos interconectados, donde un nodo representa una operación matemática, que ejecuta una función. Esta función puede ser algo simple como una suma o resta o algo complejo como una ecuación de muchas variables."
   ]
  },
  {
   "cell_type": "markdown",
   "metadata": {},
   "source": [
    "Cada operación puede retornar cero o más tensores que se pueden utilizar luego en el gráfico.  Una operación puede usar como operando una constante, un arreglo, o una matriz.  Un tensor se define como una matriz de dimensión \"n\" y representa todos los tipos de datos en TensorFlow. Un tensor puede ser originado a partir de los datos de entrada o a partir del resultado de una operación. "
   ]
  },
  {
   "cell_type": "markdown",
   "metadata": {},
   "source": [
    "La siguiente figura muestra un ejemplo sencillo de cómo se construye un gráfico de flujo de datos."
   ]
  },
  {
   "cell_type": "markdown",
   "metadata": {},
   "source": [
    "![title](ComputationGraph.png)"
   ]
  },
  {
   "cell_type": "markdown",
   "metadata": {},
   "source": [
    "El gráfico muestra las operaciones y la conexión entre los nodos, sin embargo, no muestra los resultados.  El gráfico recolecta y describe la serie de cálculos hechos durante el entrenamiento y su uso tiene ciertas ventajas:\n",
    "-  Puede correr en diferentes CPUs, GPUs or sistemas operativos moviles.\n",
    "-  La portabilidad del gráfico permite conservar los cálculos para uso intermedio o inmediato, es decir el gráfico se puede guardar y ser ejecutado en el futuro."
   ]
  },
  {
   "cell_type": "markdown",
   "metadata": {},
   "source": [
    "El nombre \"TensorFlow\" se deriva de las operaciones que las redes neuronales realizan en los tensores. Literalmente es un flujo de tensores y operaciones, desde la entrada hasta la salida."
   ]
  },
  {
   "cell_type": "markdown",
   "metadata": {},
   "source": [
    "TensorFlow es muy popular porque fue construida para ser accesible a todos, ya que incorpora diferentes APIs para construir arquitecturas de Deep Learning como las redes neuronales recursivas o redes neuronales convolucionales. "
   ]
  },
  {
   "cell_type": "markdown",
   "metadata": {},
   "source": [
    "## 1.1. Casos de uso de TensorFlow"
   ]
  },
  {
   "cell_type": "markdown",
   "metadata": {},
   "source": [
    "Google utiliza TensorFlow en varios de sus productos y servicios actuales, por ejemplo, Gmail, donde por medio del componente \"Smart Reply\", se sugieren hasta 3 respuestas automáticamente basadas en el correo electrónico recibido."
   ]
  },
  {
   "cell_type": "markdown",
   "metadata": {},
   "source": [
    "![title](SmartReply.png)"
   ]
  },
  {
   "cell_type": "markdown",
   "metadata": {},
   "source": [
    "Google también utiliza TensorFlow en la aplicación Google Translate para realizar traducciones, clasificación de texto, reconocimiento de lenguaje, imágenes y escritura, entre una variedad de idiomas. Detrás de Google Translate hay una red neuronal, específicamente un modelo secuencia-a-secuencia, que básicamente son dos redes neuronales recurrentes: un codificador y un decodificador.  El codificador lee una palabra o parte de una palabra a la vez, creando una representación intermedia. Luego el decodificar recibe una señal de inicio que causa que se decodifique la palabra o la parte de la palabra (uno a la vez de igual forma que en el codificador) al lenguaje deseado. Una vez lista la decodificación, el decodificador alimenta el resultado al paso siguiente, entonces el estado previo y el resultado previo son utilizados para resolver que palabra emitir en el próximo paso. "
   ]
  },
  {
   "cell_type": "markdown",
   "metadata": {},
   "source": [
    "Ahora incluso Google Translate es capaz de traducir el texto en imágenes vistas por la cámara de los dispositivos móviles y traducirlo al lenguaje deseado."
   ]
  },
  {
   "cell_type": "markdown",
   "metadata": {},
   "source": [
    "![title](GoogleTranslate.png)"
   ]
  },
  {
   "cell_type": "markdown",
   "metadata": {},
   "source": [
    "Como Google libero TensorFlow, muchas otras empresas también hacen uso de esta plataforma en sus aplicaciones o servicios. Algunos ejemplos son Uber, Airbnb, Twitter, Airbus, IBM. \n",
    "<br><br>\n",
    "En el caso de Airbnb, utilizan TensorFlow y otros métodos de aprendizaje automático para la mitigación de riesgos en el uso del servicio. Son capaces de detectar anomalías donde ataques hechos por medio de algún programa provocan incrementos notables en alguna métrica en un periodo corto (por ejemplo, un incremento de 1000% en las reservaciones en una ciudad en particular). También utilizan TensorFlow para sugerir reservas basadas en los gustos de sus clientes y sus reservas anteriores.\n"
   ]
  },
  {
   "cell_type": "markdown",
   "metadata": {},
   "source": [
    "![title](Airbnb.png)"
   ]
  },
  {
   "cell_type": "markdown",
   "metadata": {},
   "source": [
    "El uso de TensorFlow y aprendizaje profundo también ha incursionado en la medicina. Investigadores de Google, en conjunto con doctores, desarrollaron inteligencia artificial capaz de detectar retinopatía diabética, una condición que causa ceguera entre los adultos. El sistema detecta esta condición al examinar fotos de la retina del ojo del paciente. El diagnostico ha llegado a ser tan efectivo como el de un oftalmólogo experto. Este tipo de ceguera se puede prevenir a menudo si se la retinopatía diabética se detecta temprano, y este el objetivo. Para entrenar la red neuronal, los investigadores de Google alimentaron alrededor de 130 mil imágenes de la retina de los pacientes al sistema.  Las imágenes habían sido examinadas por doctores previamente."
   ]
  },
  {
   "cell_type": "markdown",
   "metadata": {},
   "source": [
    "![title](BlindnessDiagnosis1.png)"
   ]
  },
  {
   "cell_type": "markdown",
   "metadata": {},
   "source": [
    "## 1.2. Desafios de TensorFlow"
   ]
  },
  {
   "cell_type": "markdown",
   "metadata": {},
   "source": [
    "Como se mencionó anteriormente, TensorFlow trabaja sobre redes neuronales. Una red neuronal típica tiene millones de parámetros, y un set de entrenamiento consiste de varios miles de instancias de datos.  Y estos datos deben estar organizados correctamente.  La recolección y preparación de estos datos requiere invertir tiempo y recursos. Además, si se hace de forma incorrecta, se transforma en un riesgo sustancial para la empresa implementando aprendizaje automático.\n",
    "<br><br>\n",
    "Otro contratiempo es que esta cantidad tan grande de datos necesaria para entrenar a los modelos, no siempre es gratis. A veces se necesita comprar los sets de datos listos. \n",
    "<br><br>\n",
    "Los algoritmos de Deep Learning con TensorFlow construyen una representación jerárquica de datos y capas que les permiten crear su inteligencia artificial o entendimiento de cómo funcionan los datos.  Sin embargo, los ingenieros de ciencia de los datos no saben exactamente cómo es que los algoritmos aprenden.  A esto se le llama el problema de la caja negra. Para los ingenieros es muy difícil comprender como funciona todo el modelo. Y esto conlleva riesgos consigo, por ejemplo, ¿cómo explicar cuando el piloto automático de un vehículo autónomo falle y ocurra un accidente fatal?, ¿que pasaría cuando un algoritmo de IA haga un diagnostico medico erróneo?\n",
    "<br><br>\n",
    "Aunque cada vez más y más personas se ven atraídas hacia la industria de aprendizaje automático con TensorFlow, aún existen en realidad pocos especialistas que puedan desarrollar esta tecnología. Se estima que hay menos de 10 mil personas a nivel mundial con las habilidades necesarias para realizar investigaciones serias de aprendizaje automático.  Esto causa que los salarios en esta rama se alcen muchísimo, pero no necesariamente esto implica que la calidad de los especialistas sea la óptima. \n",
    "<br><br>\n",
    "Si los datos que se desean analizar son personales, la gente cada vez está más alerta a la protección de su privacidad, y menos anuentes a compartirlos. Además, existen nuevas regulaciones acerca de la protección de datos personales.\n",
    "<br><br>\n",
    "Otro punto a tomar en cuenta es que la primera versión de TensorFlow fue liberada por Google en febrero del 2017, es decir, es una tecnología bastante joven y aunque esta en desarrollo, puede que aún no esté al 100% lista para uso masivo.\n",
    "<br><br>\n",
    "TensorFlow trabaja por capas, los ingenieros escriben un programa que va a su vez generar otro programa que va a aprender por sí mismo a realizar las acciones que fueron programadas inicialmente para cumplir con las metas.  Esto es complicado, y toma tiempo.  Todo el proceso de recolectar y preparar los datos y luego entrenar al algoritmo consume bastante tiempo y hay muchas incertidumbres. Por lo tanto, predecir cuándo va estar listo un sistema de aprendizaje automático es una tarea complicada."
   ]
  },
  {
   "cell_type": "markdown",
   "metadata": {},
   "source": [
    "## 1.3. Comparación de TensorFlow con otras plataformas de Deep Learning"
   ]
  },
  {
   "cell_type": "markdown",
   "metadata": {},
   "source": [
    "![title](DL_Frameworks.png)"
   ]
  },
  {
   "cell_type": "markdown",
   "metadata": {},
   "source": [
    "Actualmente existen varias plataformas para Deep Learning. TensorFlow es considerada la mejor hasta el momento, y ha sido adoptada por varios gigantes de la tecnología como Airbus, Twitter, IBM, Airbnb.  Esto debido a que TensorFlow tiene una arquitectura sumamente flexible.\n",
    "<br> \n",
    "TensorFlow está disponible tanto en aplicaciones tipo desktop como en aplicaciones móviles, y soporta lenguajes como Python, C++ y R para crear los modelos de Deep Learning utilizando bibliotecas.\n",
    "<br><br>\n",
    "TensorFlow es normalmente la primera opción para dar los primeros pasos hacia Deep Learning, ya que es basado en Python, es soportado por Google, y tiene muchísima documentación y ejemplos para guiar a las personas.\n",
    "<br><br> \n",
    "Keras es más un API para Deep Learning que una plataforma en sí, sin embargo, es bastante popular, e incluso corre encima de TensorFlow.\n",
    "<br><br> \n",
    "PyTorch es una plataforma para Deep Learning basado en el lenguaje Python, y es sumamente utilizado por algunos gigantes de la industria como Facebook, y Twitter. PyTorch ha crecido mucho en popularidad recientemente. Permite una personalización que TensorFlow no. \n",
    "<br><br> \n",
    "Caffe es una plataforma para Deep Learning con interfaces como C, C++, Python y MATLAB. Es bastante conocido por su velocidad y su aplicabilidad en redes neuronales convolucionales (CNNs). En cuanto a velocidad, este marco es capaz de procesar hasta 60 millones de imágenes diariamente en un único GPU Nvidia K40.  También es bastante popular con redes neuronales para hacer reconocimiento visual. Sin embargo, por su arquitectura, el soporte general para redes recurrentes (como las utilizadas en Google Translate) es pobre y establecer capas más complejas debe hacerse en un lenguaje de bajo nivel.\n",
    "<br><br>\n",
    "La plataforma de Deep Learning de Microsoft, Microsoft Cognitive Toolkit o CNTK, es popular por que el entrenamiento de las redes es relativamente sencillo. Esta plataforma realiza redes neuronales convolucionales de forma eficiente y se pueden entrenar para reconocer imágenes, habla y texto. Se dice que provee mejor rendimiento y escalabilidad comparado con otras herramientas como Theano o el mismo TensorFlow cuando opera en múltiples maquinas, ya que hace un uso coherente de los recursos.\n",
    "<br><br> \n",
    "Acá vemos una gráfica de las estadísticas de las diferentes plataformas para Deep Learning en GitHub para el año 2018, para darnos una idea de la popularidad y la utilización de cada uno."
   ]
  },
  {
   "cell_type": "markdown",
   "metadata": {},
   "source": [
    "![title](DL_Comparison.png)"
   ]
  },
  {
   "cell_type": "markdown",
   "metadata": {},
   "source": [
    "## 1.4. Estado del arte de TensorFlow"
   ]
  },
  {
   "cell_type": "markdown",
   "metadata": {},
   "source": [
    "La ultima versión estable de TensorFlow es la 1.14.  Pero TensorFlow 2.0 se encuentra actualmente disponible en una versión Beta que se puede instalar desde la página web de TensorFlow.  La fecha de liberación de esta versión era Q2 2019. Con esta nueva versión, se espera que sea más sencillo aprender y aplicar TensorFlow. Además, Keras se encuentra aún más integrado con el ecosistema de TensorFlow en esta versión. \n",
    "<br><br>\n",
    "Además, TensorFlow 2.0 incluye TensorFlow Datasets, una colección de sets de datos comúnmente usados preparados para que sean fáciles de usar con TensorFlow.\n",
    "<br><br>\n",
    "Algunos de los usos más recientes de TensorFlow incluyen una aplicación móvil para detectar cambios en la calidad del aire, médicos están haciendo que las resonancias electromagnéticas sean más reproducibles y exactas, además se estudiaron los efectos de clima extremo en la supercomputadora Summit.\n",
    "<br><br>\n",
    "Se han anunciado convenios e iniciativas de educación con empresas como Udacity, Coursera and fast.ia para tener colaboración de fuente abierta y lograr entrenar a la nueva generación de usuarios de TensorFlow.\n",
    "<br><br>\n",
    "TensorFlow Lite es la solución para correr modelos de aprendizaje automático en móviles y sistemas embebidos y su uso se ha expandido globalmente y ahora corre en más de 2 billones de dispositivos móviles.  Grandes compañías como Alibaba lo utilizan para crear una mejor experiencia de usuario en sus aplicaciones."
   ]
  },
  {
   "cell_type": "markdown",
   "metadata": {},
   "source": [
    "## 1.5. Ejemplo de uso de  TensorFlow"
   ]
  },
  {
   "cell_type": "code",
   "execution_count": 1,
   "metadata": {},
   "outputs": [],
   "source": [
    "# importar el modulo de tensorflow al ambiente\n",
    "import tensorflow as tf\n",
    "import numpy as np\n",
    "import datetime, os\n",
    "import matplotlib.cm as cm\n",
    "import matplotlib.pyplot as plt\n",
    "%load_ext tensorboard"
   ]
  },
  {
   "cell_type": "code",
   "execution_count": 2,
   "metadata": {},
   "outputs": [
    {
     "name": "stdout",
     "output_type": "stream",
     "text": [
      "1.14.0\n"
     ]
    }
   ],
   "source": [
    "# imprimir la version de tensorflow\n",
    "print(tf.__version__)"
   ]
  },
  {
   "cell_type": "code",
   "execution_count": 3,
   "metadata": {},
   "outputs": [],
   "source": [
    "tf.reset_default_graph()"
   ]
  },
  {
   "cell_type": "code",
   "execution_count": 4,
   "metadata": {},
   "outputs": [],
   "source": [
    "# cargar el modulo tf.keras.datasets.mnist para luego usarlo para cargar los datos\n",
    "mnist=tf.keras.datasets.mnist \n",
    "# cargar el set de datos de MNIST desde la nube\n",
    "(x_train, y_train), (x_test, y_test) = mnist.load_data()"
   ]
  },
  {
   "cell_type": "code",
   "execution_count": 5,
   "metadata": {},
   "outputs": [
    {
     "name": "stdout",
     "output_type": "stream",
     "text": [
      "x_train: tipo de datos:  <class 'numpy.ndarray'> , tamaño:  47040000 , dimensiones:  (60000, 28, 28)\n",
      "y_train: tipo de datos:  <class 'numpy.ndarray'> , tamaño:  60000 , dimensiones:  (60000,)\n",
      "x_test: tipo de datos:  <class 'numpy.ndarray'> , tamaño:  7840000 , dimensiones:  (10000, 28, 28)\n",
      "y_test: tipo de datos:  <class 'numpy.ndarray'> , tamaño:  10000 , dimensiones:  (10000,)\n",
      "8 2\n"
     ]
    }
   ],
   "source": [
    "print(\"x_train: tipo de datos: \", type(x_train), \", tamaño: \", x_train.size, \", dimensiones: \", x_train.shape)\n",
    "print(\"y_train: tipo de datos: \",type(y_train), \", tamaño: \",y_train.size, \", dimensiones: \", y_train.shape)\n",
    "print(\"x_test: tipo de datos: \",type(x_test), \", tamaño: \",x_test.size, \", dimensiones: \", x_test.shape)\n",
    "print(\"y_test: tipo de datos: \",type(y_test), \", tamaño: \",y_test.size, \", dimensiones: \", y_test.shape)\n",
    "print(y_train[55], y_test[583])"
   ]
  },
  {
   "cell_type": "code",
   "execution_count": 6,
   "metadata": {},
   "outputs": [
    {
     "data": {
      "text/plain": [
       "<matplotlib.image.AxesImage at 0x7fc8e220fda0>"
      ]
     },
     "execution_count": 6,
     "metadata": {},
     "output_type": "execute_result"
    },
    {
     "data": {
      "image/png": "[encoded data removed]",
      "text/plain": [
       "<Figure size 432x288 with 1 Axes>"
      ]
     },
     "metadata": {
      "needs_background": "light"
     },
     "output_type": "display_data"
    }
   ],
   "source": [
    "plt.imshow(x_train[55].reshape(28, 28), cmap=cm.Greys)"
   ]
  },
  {
   "cell_type": "code",
   "execution_count": 7,
   "metadata": {},
   "outputs": [
    {
     "data": {
      "text/plain": [
       "<function matplotlib.pyplot.show(*args, **kw)>"
      ]
     },
     "execution_count": 7,
     "metadata": {},
     "output_type": "execute_result"
    },
    {
     "data": {
      "image/png": "[encoded data removed]",
      "text/plain": [
       "<Figure size 648x360 with 18 Axes>"
      ]
     },
     "metadata": {},
     "output_type": "display_data"
    }
   ],
   "source": [
    "images = x_train[0:18]\n",
    "fig, axes = plt.subplots(3, 6, figsize=[9,5])\n",
    "\n",
    "for i, ax in enumerate(axes.flat):\n",
    "    ax.imshow(x_train[i].reshape(28, 28), cmap=cm.Greys)\n",
    "    ax.set_xticks([])\n",
    "    ax.set_yticks([])\n",
    "plt.show"
   ]
  },
  {
   "cell_type": "code",
   "execution_count": 8,
   "metadata": {},
   "outputs": [
    {
     "data": {
      "image/png": "[encoded data removed]",
      "text/plain": [
       "<Figure size 432x288 with 1 Axes>"
      ]
     },
     "metadata": {
      "needs_background": "light"
     },
     "output_type": "display_data"
    },
    {
     "name": "stdout",
     "output_type": "stream",
     "text": [
      "[5923 6742 5958 6131 5842 5421 5918 6265 5851 5949]\n"
     ]
    }
   ],
   "source": [
    "counts = np.bincount(y_train)\n",
    "nums = np.arange(len(counts))\n",
    "plt.bar(nums, counts)\n",
    "plt.show()\n",
    "print(counts)"
   ]
  },
  {
   "cell_type": "code",
   "execution_count": 9,
   "metadata": {},
   "outputs": [],
   "source": [
    "# Disable some deprecated error messages\n",
    "tf.logging.set_verbosity(tf.logging.ERROR)\n",
    "\n",
    "# Normalize the data to a 0.0 to 1.0 scale for faster processing\n",
    "x_train, x_test = x_train / 255.0, x_test / 255.0"
   ]
  },
  {
   "cell_type": "code",
   "execution_count": 10,
   "metadata": {},
   "outputs": [],
   "source": [
    "logs_base_dir = \"./logs/fit\"\n",
    "os.makedirs(logs_base_dir, exist_ok=True)"
   ]
  },
  {
   "cell_type": "code",
   "execution_count": 11,
   "metadata": {},
   "outputs": [],
   "source": [
    "def create_model():\n",
    "    return tf.keras.models.Sequential([\n",
    "        tf.keras.layers.Flatten(input_shape=(28, 28)),\n",
    "        tf.keras.layers.Dense(256, activation=tf.nn.relu),\n",
    "        tf.keras.layers.Dropout(0.25),\n",
    "        tf.keras.layers.Dense(10, activation=tf.nn.softmax)\n",
    "    ])"
   ]
  },
  {
   "cell_type": "code",
   "execution_count": 12,
   "metadata": {},
   "outputs": [],
   "source": [
    "model=create_model()"
   ]
  },
  {
   "cell_type": "code",
   "execution_count": 13,
   "metadata": {},
   "outputs": [],
   "source": [
    "model.compile(optimizer='adam',\n",
    "              loss='sparse_categorical_crossentropy',\n",
    "              metrics=['accuracy'])"
   ]
  },
  {
   "cell_type": "code",
   "execution_count": 14,
   "metadata": {},
   "outputs": [
    {
     "name": "stdout",
     "output_type": "stream",
     "text": [
      "./logs/fit/20190717-200110\n"
     ]
    }
   ],
   "source": [
    "logdir = os.path.join(logs_base_dir, datetime.datetime.now().strftime(\"%Y%m%d-%H%M%S\"))\n",
    "print(logdir)\n",
    "tensorboard_callback = tf.keras.callbacks.TensorBoard(log_dir=logdir,histogram_freq=1)"
   ]
  },
  {
   "cell_type": "code",
   "execution_count": 15,
   "metadata": {},
   "outputs": [
    {
     "name": "stdout",
     "output_type": "stream",
     "text": [
      "Train on 60000 samples, validate on 10000 samples\n",
      "Epoch 1/4\n",
      "60000/60000 [==============================] - 14s 238us/sample - loss: 0.2598 - acc: 0.9229 - val_loss: 0.1169 - val_acc: 0.9651\n",
      "Epoch 2/4\n",
      "60000/60000 [==============================] - 11s 190us/sample - loss: 0.1201 - acc: 0.9639 - val_loss: 0.0927 - val_acc: 0.9721\n",
      "Epoch 3/4\n",
      "60000/60000 [==============================] - 10s 171us/sample - loss: 0.0888 - acc: 0.9729 - val_loss: 0.0709 - val_acc: 0.9783\n",
      "Epoch 4/4\n",
      "60000/60000 [==============================] - 10s 171us/sample - loss: 0.0709 - acc: 0.9776 - val_loss: 0.0686 - val_acc: 0.9786\n"
     ]
    },
    {
     "data": {
      "text/plain": [
       "<tensorflow.python.keras.callbacks.History at 0x7fc8de9b8e10>"
      ]
     },
     "execution_count": 15,
     "metadata": {},
     "output_type": "execute_result"
    }
   ],
   "source": [
    "model.fit(x=x_train, \n",
    "          y=y_train, \n",
    "          epochs=4, \n",
    "          validation_data=(x_test, y_test), \n",
    "          callbacks=[tensorboard_callback])"
   ]
  },
  {
   "cell_type": "code",
   "execution_count": 16,
   "metadata": {},
   "outputs": [
    {
     "name": "stdout",
     "output_type": "stream",
     "text": [
      "10000/10000 [==============================] - 1s 71us/sample - loss: 0.0686 - acc: 0.9786\n"
     ]
    },
    {
     "data": {
      "text/plain": [
       "[0.06858442741767504, 0.9786]"
      ]
     },
     "execution_count": 16,
     "metadata": {},
     "output_type": "execute_result"
    }
   ],
   "source": [
    "model.evaluate(x_test, y_test)"
   ]
  },
  {
   "cell_type": "code",
   "execution_count": 17,
   "metadata": {},
   "outputs": [
    {
     "name": "stdout",
     "output_type": "stream",
     "text": [
      "[1.3085598e-07 3.8232231e-14 5.0309179e-08 6.3982201e-12 1.1120112e-05\n",
      " 1.0355281e-09 9.9998879e-01 4.2037956e-11 2.5583232e-08 4.4406497e-12]\n",
      "6\n"
     ]
    },
    {
     "data": {
      "text/plain": [
       "<matplotlib.image.AxesImage at 0x7fc8de571cf8>"
      ]
     },
     "execution_count": 17,
     "metadata": {},
     "output_type": "execute_result"
    },
    {
     "data": {
      "image/png": "[encoded data removed]",
      "text/plain": [
       "<Figure size 432x288 with 1 Axes>"
      ]
     },
     "metadata": {
      "needs_background": "light"
     },
     "output_type": "display_data"
    }
   ],
   "source": [
    "predictions = model.predict(x_test)\n",
    "print(predictions[88])\n",
    "print(np.argmax(predictions[88]))\n",
    "plt.imshow(x_test[88].reshape(28, 28), cmap=cm.Greys)"
   ]
  },
  {
   "cell_type": "code",
   "execution_count": 18,
   "metadata": {
    "scrolled": true
   },
   "outputs": [
    {
     "data": {
      "text/html": [
       "\n",
       "        <iframe\n",
       "            width=\"100%\"\n",
       "            height=\"800\"\n",
       "            src=\"http://localhost:6006\"\n",
       "            frameborder=\"0\"\n",
       "            allowfullscreen\n",
       "        ></iframe>\n",
       "        "
      ],
      "text/plain": [
       "<IPython.lib.display.IFrame at 0x7fc8de4ef2b0>"
      ]
     },
     "metadata": {},
     "output_type": "display_data"
    }
   ],
   "source": [
    "%tensorboard --logdir {logs_base_dir}"
   ]
  },
  {
   "cell_type": "markdown",
   "metadata": {},
   "source": [
    "Nota: En caso que no se vea la salida de TensorBoard en GitHub especificamente, el siguiente pantallazo muestra lo que se genera."
   ]
  },
  {
   "cell_type": "markdown",
   "metadata": {},
   "source": [
    "![title](TensorBoard.png)"
   ]
  },
  {
   "cell_type": "markdown",
   "metadata": {},
   "source": [
    "## 2. TensorFlow.Text (seguir esquema para parte de TensorFlow)"
   ]
  },
  {
   "cell_type": "code",
   "execution_count": null,
   "metadata": {},
   "outputs": [],
   "source": []
  },
  {
   "cell_type": "code",
   "execution_count": null,
   "metadata": {},
   "outputs": [],
   "source": []
  },
  {
   "cell_type": "markdown",
   "metadata": {},
   "source": [
    "<font color=red>En el caso de TF.text es un concepto nuevo deben abordarlo de la misma forma que TF (esto es, con las mismas recomendaciones de arriba).</font>"
   ]
  },
  {
   "cell_type": "markdown",
   "metadata": {},
   "source": [
    "## 3. TensorBoard (seguir esquema para parte de TensorFlow)"
   ]
  },
  {
   "cell_type": "markdown",
   "metadata": {},
   "source": [
    "<font color=red>Para que se usa y seria muy bueno si lo pueden incluir como parte de la notebook, hay formas de usarlo por aparte pero recientemente se han creado métodos para incluirlo en la notebook de jupyter, les recomiendo abordar la forma de como se hace y que retos/cuidados puede tener.</font>"
   ]
  },
  {
   "cell_type": "markdown",
   "metadata": {},
   "source": [
    "https://dzone.com/articles/8-best-deep-learning-frameworks\n"
   ]
  },
  {
   "cell_type": "code",
   "execution_count": null,
   "metadata": {},
   "outputs": [],
   "source": []
  }
 ],
 "metadata": {
  "kernelspec": {
   "display_name": "Python 3",
   "language": "python",
   "name": "python3"
  },
  "language_info": {
   "codemirror_mode": {
    "name": "ipython",
    "version": 3
   },
   "file_extension": ".py",
   "mimetype": "text/x-python",
   "name": "python",
   "nbconvert_exporter": "python",
   "pygments_lexer": "ipython3",
   "version": "3.7.3"
  }
 },
 "nbformat": 4,
 "nbformat_minor": 2
}
